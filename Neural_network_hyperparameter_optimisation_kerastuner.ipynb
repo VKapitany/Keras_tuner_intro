{
  "nbformat": 4,
  "nbformat_minor": 0,
  "metadata": {
    "colab": {
      "name": "Neural network hyperparameter optimisation kerastuner",
      "provenance": [],
      "collapsed_sections": [],
      "toc_visible": true,
      "authorship_tag": "ABX9TyNcNVlzzaTMyInIjJWWgrf/",
      "include_colab_link": true
    },
    "kernelspec": {
      "name": "python3",
      "display_name": "Python 3"
    },
    "accelerator": "GPU"
  },
  "cells": [
    {
      "cell_type": "markdown",
      "metadata": {
        "id": "view-in-github",
        "colab_type": "text"
      },
      "source": [
        "<a href=\"https://colab.research.google.com/github/VKapitany/Keras_tuner_intro/blob/master/Neural_network_hyperparameter_optimisation_kerastuner.ipynb\" target=\"_parent\"><img src=\"https://colab.research.google.com/assets/colab-badge.svg\" alt=\"Open In Colab\"/></a>"
      ]
    },
    {
      "cell_type": "markdown",
      "metadata": {
        "id": "xAL7PuY5Utb3",
        "colab_type": "text"
      },
      "source": [
        "#Keras-tuner: Keras/Tensorflow Neural Network Hyperparameter Optimisation\n",
        "\n",
        "adapted from https://keras-team.github.io/keras-tuner/\n",
        "\n",
        "<center><img src=\"https://raw.githubusercontent.com/VKapitany/Keras_tuner_intro/master/keras_tuner.png\" width=500>\n",
        "\n",
        "*Keras-tuner is intuitive to use with the inbuilt NNs `HyperResNet` and `Hyperband`.*\n",
        "\n",
        "*For a custom architecture, this notebook shows how to use keras-tuner.* </center>\n",
        "\n",
        "### ***Change runtime type to GPU!!***"
      ]
    },
    {
      "cell_type": "code",
      "metadata": {
        "id": "9Tfm-AqTVzYg",
        "colab_type": "code",
        "colab": {
          "base_uri": "https://localhost:8080/",
          "height": 540
        },
        "outputId": "65d9dfca-2c71-48cb-b224-c83b0d00f268"
      },
      "source": [
        "import numpy as np\n",
        "from matplotlib import pyplot as plt\n",
        "\n",
        "from tensorflow import keras\n",
        "from tensorflow.keras import layers\n",
        "!pip install -U keras-tuner # keras-tuner isn't pre-installed in fresh google colab\n",
        "                            # virtual machines, but you can install modules using !pip\n",
        "from kerastuner.tuners import RandomSearch,Hyperband,BayesianOptimization\n",
        "import random"
      ],
      "execution_count": null,
      "outputs": [
        {
          "output_type": "stream",
          "text": [
            "Collecting keras-tuner\n",
            "\u001b[?25l  Downloading https://files.pythonhosted.org/packages/a7/f7/4b41b6832abf4c9bef71a664dc563adb25afc5812831667c6db572b1a261/keras-tuner-1.0.1.tar.gz (54kB)\n",
            "\r\u001b[K     |██████                          | 10kB 22.1MB/s eta 0:00:01\r\u001b[K     |████████████                    | 20kB 3.0MB/s eta 0:00:01\r\u001b[K     |██████████████████              | 30kB 4.0MB/s eta 0:00:01\r\u001b[K     |████████████████████████        | 40kB 4.3MB/s eta 0:00:01\r\u001b[K     |██████████████████████████████  | 51kB 3.4MB/s eta 0:00:01\r\u001b[K     |████████████████████████████████| 61kB 2.9MB/s \n",
            "\u001b[?25hRequirement already satisfied, skipping upgrade: future in /usr/local/lib/python3.6/dist-packages (from keras-tuner) (0.16.0)\n",
            "Requirement already satisfied, skipping upgrade: numpy in /usr/local/lib/python3.6/dist-packages (from keras-tuner) (1.18.5)\n",
            "Requirement already satisfied, skipping upgrade: tabulate in /usr/local/lib/python3.6/dist-packages (from keras-tuner) (0.8.7)\n",
            "Collecting terminaltables\n",
            "  Downloading https://files.pythonhosted.org/packages/9b/c4/4a21174f32f8a7e1104798c445dacdc1d4df86f2f26722767034e4de4bff/terminaltables-3.1.0.tar.gz\n",
            "Collecting colorama\n",
            "  Downloading https://files.pythonhosted.org/packages/c9/dc/45cdef1b4d119eb96316b3117e6d5708a08029992b2fee2c143c7a0a5cc5/colorama-0.4.3-py2.py3-none-any.whl\n",
            "Requirement already satisfied, skipping upgrade: tqdm in /usr/local/lib/python3.6/dist-packages (from keras-tuner) (4.41.1)\n",
            "Requirement already satisfied, skipping upgrade: requests in /usr/local/lib/python3.6/dist-packages (from keras-tuner) (2.23.0)\n",
            "Requirement already satisfied, skipping upgrade: scipy in /usr/local/lib/python3.6/dist-packages (from keras-tuner) (1.4.1)\n",
            "Requirement already satisfied, skipping upgrade: scikit-learn in /usr/local/lib/python3.6/dist-packages (from keras-tuner) (0.22.2.post1)\n",
            "Requirement already satisfied, skipping upgrade: urllib3!=1.25.0,!=1.25.1,<1.26,>=1.21.1 in /usr/local/lib/python3.6/dist-packages (from requests->keras-tuner) (1.24.3)\n",
            "Requirement already satisfied, skipping upgrade: certifi>=2017.4.17 in /usr/local/lib/python3.6/dist-packages (from requests->keras-tuner) (2020.6.20)\n",
            "Requirement already satisfied, skipping upgrade: chardet<4,>=3.0.2 in /usr/local/lib/python3.6/dist-packages (from requests->keras-tuner) (3.0.4)\n",
            "Requirement already satisfied, skipping upgrade: idna<3,>=2.5 in /usr/local/lib/python3.6/dist-packages (from requests->keras-tuner) (2.10)\n",
            "Requirement already satisfied, skipping upgrade: joblib>=0.11 in /usr/local/lib/python3.6/dist-packages (from scikit-learn->keras-tuner) (0.16.0)\n",
            "Building wheels for collected packages: keras-tuner, terminaltables\n",
            "  Building wheel for keras-tuner (setup.py) ... \u001b[?25l\u001b[?25hdone\n",
            "  Created wheel for keras-tuner: filename=keras_tuner-1.0.1-cp36-none-any.whl size=73200 sha256=ac1be5d86d68dda9407d37abf0b14b6c41abcef99cb1bec36c381e75636b14a9\n",
            "  Stored in directory: /root/.cache/pip/wheels/b9/cc/62/52716b70dd90f3db12519233c3a93a5360bc672da1a10ded43\n",
            "  Building wheel for terminaltables (setup.py) ... \u001b[?25l\u001b[?25hdone\n",
            "  Created wheel for terminaltables: filename=terminaltables-3.1.0-cp36-none-any.whl size=15356 sha256=9efcda31be75eb0a345a24cabab2aade5b4e5b6d914ed61061c5d66024c0659b\n",
            "  Stored in directory: /root/.cache/pip/wheels/30/6b/50/6c75775b681fb36cdfac7f19799888ef9d8813aff9e379663e\n",
            "Successfully built keras-tuner terminaltables\n",
            "Installing collected packages: terminaltables, colorama, keras-tuner\n",
            "Successfully installed colorama-0.4.3 keras-tuner-1.0.1 terminaltables-3.1.0\n"
          ],
          "name": "stdout"
        }
      ]
    },
    {
      "cell_type": "markdown",
      "metadata": {
        "id": "3Xe5RMhkcvJ6",
        "colab_type": "text"
      },
      "source": [
        "### Data: we’ll download the MNIST dataset"
      ]
    },
    {
      "cell_type": "code",
      "metadata": {
        "id": "jkw2eaQeUszz",
        "colab_type": "code",
        "colab": {
          "base_uri": "https://localhost:8080/",
          "height": 69
        },
        "outputId": "7faf14eb-84f7-4fef-83b5-57f2b8ad0b7c"
      },
      "source": [
        "from keras.datasets.mnist import load_data\n",
        "(train_images, train_labels), (test_images, test_labels) = load_data()\n",
        "\n",
        "train_images = np.reshape(train_images,(-1,784)).astype('float32')\n",
        "test_images = np.reshape(test_images,(-1,784)).astype('float32')\n",
        "\n",
        "val_images=train_images[0:10000].astype('float32')\n",
        "val_labels=train_labels[0:10000].astype('float32')\n",
        "\n",
        "train_images=train_images[10000::].astype('float32')\n",
        "train_labels=train_labels[10000::].astype('float32')\n",
        "\n",
        "test_images=test_images.astype('float32')\n",
        "test_labels=test_labels.astype('float32')"
      ],
      "execution_count": null,
      "outputs": [
        {
          "output_type": "stream",
          "text": [
            "Using TensorFlow backend.\n"
          ],
          "name": "stderr"
        },
        {
          "output_type": "stream",
          "text": [
            "Downloading data from https://s3.amazonaws.com/img-datasets/mnist.npz\n",
            "11493376/11490434 [==============================] - 1s 0us/step\n"
          ],
          "name": "stdout"
        }
      ]
    },
    {
      "cell_type": "markdown",
      "metadata": {
        "id": "dTP4Ft60biC3",
        "colab_type": "text"
      },
      "source": [
        "### **Then, we define a model-building function.**\n",
        "It takes an `hp` argument from which you can sample hyperparameters, such as `hp.Int('units', min_value=32, max_value=512, step=32)` (an integer from a certain range).\n",
        "\n",
        "In the following code, we will be tuning 3 hyperparameters:\n",
        "- the `units` parameter of the first Dense layer\n",
        "- the number of identical hidden layers (`number_of_layers`) between the first hidden layer and the output layer\n",
        "- the `activation` function of these hidden layers \n",
        "- and the `learning_rate` parameters of the optimizer.\n",
        "\n",
        "For documentation on defining the hyperparameters, see: https://keras-team.github.io/keras-tuner/documentation/hyperparameters/"
      ]
    },
    {
      "cell_type": "code",
      "metadata": {
        "id": "MMxmK9RAbYKY",
        "colab_type": "code",
        "colab": {}
      },
      "source": [
        "def build_model(hp):\n",
        "    model = keras.Sequential()\n",
        "    model.add(layers.Input(shape=(28*28)))\n",
        "    model.add(layers.Dense(units=hp.Int('units',\n",
        "                                        min_value=32,\n",
        "                                        max_value=512,\n",
        "                                        step=32),\n",
        "                           activation='relu'))\n",
        "    for i in range(hp.Int('number_of_layers',min_value = 0,max_value = 4,step=1)):\n",
        "        model.add(layers.Dense(64, activation=hp.Choice('activation',\n",
        "                                                        values = ['relu','tanh'])))\n",
        "    model.add(layers.Dense(10, activation='softmax'))\n",
        "    model.compile(\n",
        "        optimizer=keras.optimizers.Adam(\n",
        "            hp.Choice('learning_rate',\n",
        "                      values=[1e-2, 1e-3, 1e-4])),\n",
        "        loss='sparse_categorical_crossentropy',\n",
        "        metrics=['accuracy'])\n",
        "    return model"
      ],
      "execution_count": null,
      "outputs": []
    },
    {
      "cell_type": "markdown",
      "metadata": {
        "id": "RtKefLqJcJx5",
        "colab_type": "text"
      },
      "source": [
        "### **Next, instantiate a tuner.**\n",
        "You should specify:\n",
        "- model-building function\n",
        "- the name of the objective to optimize (whether to minimize or maximize is automatically inferred for built-in metrics)\n",
        "- the total number of trials (`max_trials`) to test\n",
        "- and the number of models that should be built and fit for each trial (`executions_per_trial`).\n",
        "\n",
        "Available tuners are `RandomSearch`, `BayesianOptimisation`, `Hyperband` and `Sklearn` (the latter is for sklearn networks).\n",
        "\n",
        "Note: the purpose of having multiple executions per trial is to reduce results variance and therefore be able to more accurately assess the performance of a model. If you want to get results faster, you could set `executions_per_trial=1` (single round of training for each model configuration).\n",
        "\n",
        "**In this example, Keras tuner will use the `Hyperband` algorithm (https://arxiv.org/pdf/1603.06560.pdf) for the hyperparameter search:**\n",
        "\n",
        "### Hyperband: A Novel Bandit-Based Approach to Hyperparameter Optimization:\n",
        "...\n",
        "\n",
        "*\\\"We develop a novel configuration evaluation approach by formulating hyperparameter\n",
        "optimization as a pure-exploration adaptive resource allocation problem addressing **how to\n",
        "allocate resources among randomly sampled hyperparameter configurations**.2 Our procedure,\n",
        "Hyperband, relies on a principled early-stopping strategy to allocate resources, allowing it\n",
        "to **evaluate orders-of-magnitude more configurations than black-box procedures like Bayesian\n",
        "optimization methods.** Hyperband is a general-purpose technique that makes minimal\n",
        "assumptions unlike prior configuration evaluation approaches (Domhan et al., 2015; Swersky\n",
        "et al., 2014; Gy¨orgy and Kocsis, 2011; Agarwal et al., 2011; Sparks et al., 2015; Jamieson\n",
        "and Talwalkar, 2015).\\\"*\n",
        "\n",
        "\n",
        "\n",
        "...\n",
        "\n",
        "\n",
        "\n",
        "*\\\"Our theoretical analysis demonstrates the ability of Hyperband to adapt to unknown\n",
        "convergence rates and to the behavior of validation losses as a function of the hyperparameters.\n",
        "In addition, Hyperband is 5× to 30× faster than popular Bayesian optimization algorithms\n",
        "on a variety of deep-learning and kernel-based learning problems. A theoretical contribution\n",
        "of this work is the introduction of the pure-exploration, infinite-armed bandit problem in\n",
        "the non-stochastic setting, for which Hyperband is one solution.\\\"*\n",
        "\n",
        "---\n",
        "*\\\"In probability theory, the multi-armed bandit problem (sometimes called the K- or N-armed bandit problem) is a problem in which a fixed limited set of resources must be allocated between competing (alternative) choices in a way that maximizes their expected gain, when each choice's properties are only partially known at the time of allocation, and may become better understood as time passes or by allocating resources to the choice.\\\"* - https://en.wikipedia.org/wiki/Multi-armed_bandit"
      ]
    },
    {
      "cell_type": "code",
      "metadata": {
        "id": "e12JdOaZU9TZ",
        "colab_type": "code",
        "colab": {}
      },
      "source": [
        "if 'model' in locals(): del model \n",
        "keras.backend.clear_session() \n",
        "\n",
        "# tuner = RandomSearch(\n",
        "#     build_model,\n",
        "#     objective='val_accuracy',\n",
        "#     max_trials=15,\n",
        "#     executions_per_trial=3,\n",
        "#     directory='my_dir',\n",
        "#     project_name='helloworld',\n",
        "#     overwrite=True)\n",
        "\n",
        "tuner = BayesianOptimization(\n",
        "    build_model,\n",
        "    objective='val_accuracy',\n",
        "    max_trials=15,\n",
        "    executions_per_trial=3,\n",
        "    directory='my_dir',\n",
        "    project_name='helloworld',\n",
        "    overwrite=True)\n",
        "\n",
        "# tuner = Hyperband(\n",
        "#     build_model,\n",
        "#     objective='val_accuracy',\n",
        "#     max_epochs=10,\n",
        "#     executions_per_trial=3,\n",
        "#     directory='my_dir',\n",
        "#     project_name='helloworld',\n",
        "#     overwrite=True)"
      ],
      "execution_count": null,
      "outputs": []
    },
    {
      "cell_type": "markdown",
      "metadata": {
        "id": "VASEcJdNahXB",
        "colab_type": "text"
      },
      "source": [
        "You can print a summary of the search space"
      ]
    },
    {
      "cell_type": "code",
      "metadata": {
        "id": "8-QZGFjCakhQ",
        "colab_type": "code",
        "colab": {
          "base_uri": "https://localhost:8080/",
          "height": 407
        },
        "outputId": "1a877022-f9c9-4176-9599-be18f650879d"
      },
      "source": [
        "tuner.search_space_summary()"
      ],
      "execution_count": null,
      "outputs": [
        {
          "output_type": "display_data",
          "data": {
            "text/html": [
              "<span style=\"color:#4527A0\"><h1 style=\"font-size:18px\">Search space summary</h1></span>"
            ],
            "text/plain": [
              "<IPython.core.display.HTML object>"
            ]
          },
          "metadata": {
            "tags": []
          }
        },
        {
          "output_type": "display_data",
          "data": {
            "text/html": [
              "<span style=\"color:cyan\"> |-Default search space size: 3</span>"
            ],
            "text/plain": [
              "<IPython.core.display.HTML object>"
            ]
          },
          "metadata": {
            "tags": []
          }
        },
        {
          "output_type": "display_data",
          "data": {
            "text/html": [
              "<span style=\"color:#7E57C2\"><h2 style=\"font-size:16px\">units (Int)</h2></span>"
            ],
            "text/plain": [
              "<IPython.core.display.HTML object>"
            ]
          },
          "metadata": {
            "tags": []
          }
        },
        {
          "output_type": "display_data",
          "data": {
            "text/html": [
              "<span style=\"color:cyan\"> |-default: None</span>"
            ],
            "text/plain": [
              "<IPython.core.display.HTML object>"
            ]
          },
          "metadata": {
            "tags": []
          }
        },
        {
          "output_type": "display_data",
          "data": {
            "text/html": [
              "<span style=\"color:blue\"> |-max_value: 512</span>"
            ],
            "text/plain": [
              "<IPython.core.display.HTML object>"
            ]
          },
          "metadata": {
            "tags": []
          }
        },
        {
          "output_type": "display_data",
          "data": {
            "text/html": [
              "<span style=\"color:cyan\"> |-min_value: 32</span>"
            ],
            "text/plain": [
              "<IPython.core.display.HTML object>"
            ]
          },
          "metadata": {
            "tags": []
          }
        },
        {
          "output_type": "display_data",
          "data": {
            "text/html": [
              "<span style=\"color:blue\"> |-sampling: None</span>"
            ],
            "text/plain": [
              "<IPython.core.display.HTML object>"
            ]
          },
          "metadata": {
            "tags": []
          }
        },
        {
          "output_type": "display_data",
          "data": {
            "text/html": [
              "<span style=\"color:cyan\"> |-step: 32</span>"
            ],
            "text/plain": [
              "<IPython.core.display.HTML object>"
            ]
          },
          "metadata": {
            "tags": []
          }
        },
        {
          "output_type": "display_data",
          "data": {
            "text/html": [
              "<span style=\"color:#7E57C2\"><h2 style=\"font-size:16px\">number_of_layers (Int)</h2></span>"
            ],
            "text/plain": [
              "<IPython.core.display.HTML object>"
            ]
          },
          "metadata": {
            "tags": []
          }
        },
        {
          "output_type": "display_data",
          "data": {
            "text/html": [
              "<span style=\"color:cyan\"> |-default: None</span>"
            ],
            "text/plain": [
              "<IPython.core.display.HTML object>"
            ]
          },
          "metadata": {
            "tags": []
          }
        },
        {
          "output_type": "display_data",
          "data": {
            "text/html": [
              "<span style=\"color:blue\"> |-max_value: 4</span>"
            ],
            "text/plain": [
              "<IPython.core.display.HTML object>"
            ]
          },
          "metadata": {
            "tags": []
          }
        },
        {
          "output_type": "display_data",
          "data": {
            "text/html": [
              "<span style=\"color:cyan\"> |-min_value: 0</span>"
            ],
            "text/plain": [
              "<IPython.core.display.HTML object>"
            ]
          },
          "metadata": {
            "tags": []
          }
        },
        {
          "output_type": "display_data",
          "data": {
            "text/html": [
              "<span style=\"color:blue\"> |-sampling: None</span>"
            ],
            "text/plain": [
              "<IPython.core.display.HTML object>"
            ]
          },
          "metadata": {
            "tags": []
          }
        },
        {
          "output_type": "display_data",
          "data": {
            "text/html": [
              "<span style=\"color:cyan\"> |-step: 1</span>"
            ],
            "text/plain": [
              "<IPython.core.display.HTML object>"
            ]
          },
          "metadata": {
            "tags": []
          }
        },
        {
          "output_type": "display_data",
          "data": {
            "text/html": [
              "<span style=\"color:#7E57C2\"><h2 style=\"font-size:16px\">learning_rate (Choice)</h2></span>"
            ],
            "text/plain": [
              "<IPython.core.display.HTML object>"
            ]
          },
          "metadata": {
            "tags": []
          }
        },
        {
          "output_type": "display_data",
          "data": {
            "text/html": [
              "<span style=\"color:cyan\"> |-default: 0.01</span>"
            ],
            "text/plain": [
              "<IPython.core.display.HTML object>"
            ]
          },
          "metadata": {
            "tags": []
          }
        },
        {
          "output_type": "display_data",
          "data": {
            "text/html": [
              "<span style=\"color:blue\"> |-ordered: True</span>"
            ],
            "text/plain": [
              "<IPython.core.display.HTML object>"
            ]
          },
          "metadata": {
            "tags": []
          }
        },
        {
          "output_type": "display_data",
          "data": {
            "text/html": [
              "<span style=\"color:cyan\"> |-values: [0.01, 0.001, 0.0001]</span>"
            ],
            "text/plain": [
              "<IPython.core.display.HTML object>"
            ]
          },
          "metadata": {
            "tags": []
          }
        }
      ]
    },
    {
      "cell_type": "markdown",
      "metadata": {
        "id": "MqxUnp2eapOV",
        "colab_type": "text"
      },
      "source": [
        "### Finally start the search for the best hyperparameter configuration.\n",
        "The call to search has the same signature as `model.fit()`. The searches will try out different permutations of your choices, constrained by: the `number of trials`, and the `executions per trial` parameters."
      ]
    },
    {
      "cell_type": "code",
      "metadata": {
        "id": "-4OvCsflanz-",
        "colab_type": "code",
        "colab": {
          "base_uri": "https://localhost:8080/",
          "height": 1000
        },
        "outputId": "96d3008a-867b-489a-e25a-d0e1ad00a3d6"
      },
      "source": [
        "tuner.search(train_images, train_labels,\n",
        "             epochs=10,\n",
        "             batch_size=512,\n",
        "             validation_data=(val_images, val_labels),\n",
        "             callbacks=[keras.callbacks.EarlyStopping(patience=1)])"
      ],
      "execution_count": null,
      "outputs": [
        {
          "output_type": "stream",
          "text": [
            "Epoch 1/10\n",
            "98/98 [==============================] - 1s 5ms/step - loss: 4.8009 - accuracy: 0.2363 - val_loss: 1.7612 - val_accuracy: 0.3133\n",
            "Epoch 2/10\n",
            "98/98 [==============================] - 0s 4ms/step - loss: 1.5165 - accuracy: 0.3904 - val_loss: 1.3084 - val_accuracy: 0.4636\n",
            "Epoch 3/10\n",
            "98/98 [==============================] - 0s 4ms/step - loss: 1.1980 - accuracy: 0.5050 - val_loss: 1.1001 - val_accuracy: 0.5493\n",
            "Epoch 4/10\n",
            "98/98 [==============================] - 0s 4ms/step - loss: 1.0803 - accuracy: 0.5462 - val_loss: 1.0785 - val_accuracy: 0.5462\n",
            "Epoch 5/10\n",
            "98/98 [==============================] - 0s 4ms/step - loss: 1.0527 - accuracy: 0.5551 - val_loss: 1.0483 - val_accuracy: 0.5696\n",
            "Epoch 6/10\n",
            "98/98 [==============================] - 0s 4ms/step - loss: 1.0300 - accuracy: 0.5775 - val_loss: 1.0173 - val_accuracy: 0.6099\n",
            "Epoch 7/10\n",
            "98/98 [==============================] - 0s 4ms/step - loss: 0.9132 - accuracy: 0.6572 - val_loss: 0.8448 - val_accuracy: 0.6782\n",
            "Epoch 8/10\n",
            "98/98 [==============================] - 0s 5ms/step - loss: 0.8033 - accuracy: 0.6954 - val_loss: 0.7649 - val_accuracy: 0.7197\n",
            "Epoch 9/10\n",
            "98/98 [==============================] - 0s 5ms/step - loss: 0.7458 - accuracy: 0.7208 - val_loss: 0.7265 - val_accuracy: 0.7302\n",
            "Epoch 10/10\n",
            "98/98 [==============================] - 0s 4ms/step - loss: 0.7409 - accuracy: 0.7243 - val_loss: 0.7299 - val_accuracy: 0.7352\n",
            "Epoch 1/10\n",
            "98/98 [==============================] - 1s 5ms/step - loss: 3.2673 - accuracy: 0.5662 - val_loss: 0.7026 - val_accuracy: 0.7509\n",
            "Epoch 2/10\n",
            "98/98 [==============================] - 0s 4ms/step - loss: 0.5831 - accuracy: 0.8146 - val_loss: 0.4986 - val_accuracy: 0.8586\n",
            "Epoch 3/10\n",
            "98/98 [==============================] - 0s 4ms/step - loss: 0.4494 - accuracy: 0.8656 - val_loss: 0.4163 - val_accuracy: 0.8783\n",
            "Epoch 4/10\n",
            "98/98 [==============================] - 0s 5ms/step - loss: 0.3960 - accuracy: 0.8808 - val_loss: 0.4019 - val_accuracy: 0.8851\n",
            "Epoch 5/10\n",
            "98/98 [==============================] - 0s 4ms/step - loss: 0.3766 - accuracy: 0.8878 - val_loss: 0.4308 - val_accuracy: 0.8734\n",
            "Epoch 1/10\n",
            "98/98 [==============================] - 1s 5ms/step - loss: 3.4571 - accuracy: 0.6436 - val_loss: 0.5467 - val_accuracy: 0.8395\n",
            "Epoch 2/10\n",
            "98/98 [==============================] - 0s 5ms/step - loss: 0.4581 - accuracy: 0.8631 - val_loss: 0.3966 - val_accuracy: 0.8866\n",
            "Epoch 3/10\n",
            "98/98 [==============================] - 0s 5ms/step - loss: 0.3633 - accuracy: 0.8912 - val_loss: 0.3508 - val_accuracy: 0.8971\n",
            "Epoch 4/10\n",
            "98/98 [==============================] - 0s 5ms/step - loss: 0.3142 - accuracy: 0.9060 - val_loss: 0.3204 - val_accuracy: 0.9073\n",
            "Epoch 5/10\n",
            "98/98 [==============================] - 0s 5ms/step - loss: 0.2889 - accuracy: 0.9144 - val_loss: 0.2966 - val_accuracy: 0.9150\n",
            "Epoch 6/10\n",
            "98/98 [==============================] - 0s 4ms/step - loss: 0.2728 - accuracy: 0.9193 - val_loss: 0.3447 - val_accuracy: 0.9027\n"
          ],
          "name": "stdout"
        },
        {
          "output_type": "display_data",
          "data": {
            "text/html": [
              "<span style=\"color:#4527A0\"><h1 style=\"font-size:18px\">Trial complete</h1></span>"
            ],
            "text/plain": [
              "<IPython.core.display.HTML object>"
            ]
          },
          "metadata": {
            "tags": []
          }
        },
        {
          "output_type": "display_data",
          "data": {
            "text/html": [
              "<span style=\"color:#4527A0\"><h1 style=\"font-size:18px\">Trial summary</h1></span>"
            ],
            "text/plain": [
              "<IPython.core.display.HTML object>"
            ]
          },
          "metadata": {
            "tags": []
          }
        },
        {
          "output_type": "display_data",
          "data": {
            "text/html": [
              "<span style=\"color:cyan\"> |-Trial ID: 4f6210109c522c90f98101623b57a34e</span>"
            ],
            "text/plain": [
              "<IPython.core.display.HTML object>"
            ]
          },
          "metadata": {
            "tags": []
          }
        },
        {
          "output_type": "display_data",
          "data": {
            "text/html": [
              "<span style=\"color:cyan\"> |-Score: 0.8451000054677328</span>"
            ],
            "text/plain": [
              "<IPython.core.display.HTML object>"
            ]
          },
          "metadata": {
            "tags": []
          }
        },
        {
          "output_type": "display_data",
          "data": {
            "text/html": [
              "<span style=\"color:cyan\"> |-Best step: 0</span>"
            ],
            "text/plain": [
              "<IPython.core.display.HTML object>"
            ]
          },
          "metadata": {
            "tags": []
          }
        },
        {
          "output_type": "display_data",
          "data": {
            "text/html": [
              "<span style=\"color:#7E57C2\"><h2 style=\"font-size:16px\">Hyperparameters:</h2></span>"
            ],
            "text/plain": [
              "<IPython.core.display.HTML object>"
            ]
          },
          "metadata": {
            "tags": []
          }
        },
        {
          "output_type": "display_data",
          "data": {
            "text/html": [
              "<span style=\"color:cyan\"> |-activation: relu</span>"
            ],
            "text/plain": [
              "<IPython.core.display.HTML object>"
            ]
          },
          "metadata": {
            "tags": []
          }
        },
        {
          "output_type": "display_data",
          "data": {
            "text/html": [
              "<span style=\"color:blue\"> |-learning_rate: 0.01</span>"
            ],
            "text/plain": [
              "<IPython.core.display.HTML object>"
            ]
          },
          "metadata": {
            "tags": []
          }
        },
        {
          "output_type": "display_data",
          "data": {
            "text/html": [
              "<span style=\"color:cyan\"> |-number_of_layers: 3</span>"
            ],
            "text/plain": [
              "<IPython.core.display.HTML object>"
            ]
          },
          "metadata": {
            "tags": []
          }
        },
        {
          "output_type": "display_data",
          "data": {
            "text/html": [
              "<span style=\"color:blue\"> |-units: 32</span>"
            ],
            "text/plain": [
              "<IPython.core.display.HTML object>"
            ]
          },
          "metadata": {
            "tags": []
          }
        },
        {
          "output_type": "stream",
          "text": [
            "Epoch 1/10\n",
            "98/98 [==============================] - 1s 5ms/step - loss: 4.9880 - accuracy: 0.5922 - val_loss: 0.8519 - val_accuracy: 0.7863\n",
            "Epoch 2/10\n",
            "98/98 [==============================] - 0s 5ms/step - loss: 0.6536 - accuracy: 0.8262 - val_loss: 0.5507 - val_accuracy: 0.8523\n",
            "Epoch 3/10\n",
            "98/98 [==============================] - 0s 5ms/step - loss: 0.4468 - accuracy: 0.8752 - val_loss: 0.4415 - val_accuracy: 0.8784\n",
            "Epoch 4/10\n",
            "98/98 [==============================] - 0s 5ms/step - loss: 0.3455 - accuracy: 0.9024 - val_loss: 0.3653 - val_accuracy: 0.8989\n",
            "Epoch 5/10\n",
            "98/98 [==============================] - 0s 5ms/step - loss: 0.2825 - accuracy: 0.9178 - val_loss: 0.3245 - val_accuracy: 0.9124\n",
            "Epoch 6/10\n",
            "98/98 [==============================] - 0s 5ms/step - loss: 0.2429 - accuracy: 0.9292 - val_loss: 0.3139 - val_accuracy: 0.9162\n",
            "Epoch 7/10\n",
            "98/98 [==============================] - 0s 5ms/step - loss: 0.2128 - accuracy: 0.9367 - val_loss: 0.2890 - val_accuracy: 0.9212\n",
            "Epoch 8/10\n",
            "98/98 [==============================] - 0s 4ms/step - loss: 0.1853 - accuracy: 0.9447 - val_loss: 0.2898 - val_accuracy: 0.9211\n",
            "Epoch 1/10\n",
            "98/98 [==============================] - 1s 5ms/step - loss: 4.6320 - accuracy: 0.5274 - val_loss: 1.0235 - val_accuracy: 0.7309\n",
            "Epoch 2/10\n",
            "98/98 [==============================] - 0s 4ms/step - loss: 0.7649 - accuracy: 0.7915 - val_loss: 0.6290 - val_accuracy: 0.8324\n",
            "Epoch 3/10\n",
            "98/98 [==============================] - 0s 4ms/step - loss: 0.4970 - accuracy: 0.8610 - val_loss: 0.4765 - val_accuracy: 0.8711\n",
            "Epoch 4/10\n",
            "98/98 [==============================] - 0s 4ms/step - loss: 0.3770 - accuracy: 0.8926 - val_loss: 0.4043 - val_accuracy: 0.8925\n",
            "Epoch 5/10\n",
            "98/98 [==============================] - 0s 5ms/step - loss: 0.3086 - accuracy: 0.9117 - val_loss: 0.3467 - val_accuracy: 0.9068\n",
            "Epoch 6/10\n",
            "98/98 [==============================] - 0s 5ms/step - loss: 0.2590 - accuracy: 0.9244 - val_loss: 0.3183 - val_accuracy: 0.9170\n",
            "Epoch 7/10\n",
            "98/98 [==============================] - 0s 5ms/step - loss: 0.2243 - accuracy: 0.9346 - val_loss: 0.2994 - val_accuracy: 0.9192\n",
            "Epoch 8/10\n",
            "98/98 [==============================] - 0s 5ms/step - loss: 0.1970 - accuracy: 0.9428 - val_loss: 0.2752 - val_accuracy: 0.9267\n",
            "Epoch 9/10\n",
            "98/98 [==============================] - 1s 5ms/step - loss: 0.1753 - accuracy: 0.9476 - val_loss: 0.2726 - val_accuracy: 0.9282\n",
            "Epoch 10/10\n",
            "98/98 [==============================] - 0s 5ms/step - loss: 0.1573 - accuracy: 0.9527 - val_loss: 0.2680 - val_accuracy: 0.9298\n",
            "Epoch 1/10\n",
            "98/98 [==============================] - 1s 6ms/step - loss: 3.7563 - accuracy: 0.5676 - val_loss: 0.8711 - val_accuracy: 0.7586\n",
            "Epoch 2/10\n",
            "98/98 [==============================] - 0s 5ms/step - loss: 0.6467 - accuracy: 0.8189 - val_loss: 0.5433 - val_accuracy: 0.8497\n",
            "Epoch 3/10\n",
            "98/98 [==============================] - 0s 5ms/step - loss: 0.4465 - accuracy: 0.8736 - val_loss: 0.4245 - val_accuracy: 0.8817\n",
            "Epoch 4/10\n",
            "98/98 [==============================] - 0s 5ms/step - loss: 0.3475 - accuracy: 0.8987 - val_loss: 0.3556 - val_accuracy: 0.9001\n",
            "Epoch 5/10\n",
            "98/98 [==============================] - 0s 5ms/step - loss: 0.2864 - accuracy: 0.9153 - val_loss: 0.3212 - val_accuracy: 0.9082\n",
            "Epoch 6/10\n",
            "98/98 [==============================] - 0s 5ms/step - loss: 0.2465 - accuracy: 0.9267 - val_loss: 0.3024 - val_accuracy: 0.9146\n",
            "Epoch 7/10\n",
            "98/98 [==============================] - 0s 5ms/step - loss: 0.2177 - accuracy: 0.9340 - val_loss: 0.2773 - val_accuracy: 0.9229\n",
            "Epoch 8/10\n",
            "98/98 [==============================] - 0s 5ms/step - loss: 0.1918 - accuracy: 0.9417 - val_loss: 0.2631 - val_accuracy: 0.9275\n",
            "Epoch 9/10\n",
            "98/98 [==============================] - 0s 5ms/step - loss: 0.1731 - accuracy: 0.9478 - val_loss: 0.2513 - val_accuracy: 0.9317\n",
            "Epoch 10/10\n",
            "98/98 [==============================] - 0s 5ms/step - loss: 0.1565 - accuracy: 0.9517 - val_loss: 0.2387 - val_accuracy: 0.9327\n"
          ],
          "name": "stdout"
        },
        {
          "output_type": "display_data",
          "data": {
            "text/html": [
              "<span style=\"color:#4527A0\"><h1 style=\"font-size:18px\">Trial complete</h1></span>"
            ],
            "text/plain": [
              "<IPython.core.display.HTML object>"
            ]
          },
          "metadata": {
            "tags": []
          }
        },
        {
          "output_type": "display_data",
          "data": {
            "text/html": [
              "<span style=\"color:#4527A0\"><h1 style=\"font-size:18px\">Trial summary</h1></span>"
            ],
            "text/plain": [
              "<IPython.core.display.HTML object>"
            ]
          },
          "metadata": {
            "tags": []
          }
        },
        {
          "output_type": "display_data",
          "data": {
            "text/html": [
              "<span style=\"color:cyan\"> |-Trial ID: eada4730bc13824c950e9dc8f8c4132c</span>"
            ],
            "text/plain": [
              "<IPython.core.display.HTML object>"
            ]
          },
          "metadata": {
            "tags": []
          }
        },
        {
          "output_type": "display_data",
          "data": {
            "text/html": [
              "<span style=\"color:cyan\"> |-Score: 0.927899976571401</span>"
            ],
            "text/plain": [
              "<IPython.core.display.HTML object>"
            ]
          },
          "metadata": {
            "tags": []
          }
        },
        {
          "output_type": "display_data",
          "data": {
            "text/html": [
              "<span style=\"color:cyan\"> |-Best step: 0</span>"
            ],
            "text/plain": [
              "<IPython.core.display.HTML object>"
            ]
          },
          "metadata": {
            "tags": []
          }
        },
        {
          "output_type": "display_data",
          "data": {
            "text/html": [
              "<span style=\"color:#7E57C2\"><h2 style=\"font-size:16px\">Hyperparameters:</h2></span>"
            ],
            "text/plain": [
              "<IPython.core.display.HTML object>"
            ]
          },
          "metadata": {
            "tags": []
          }
        },
        {
          "output_type": "display_data",
          "data": {
            "text/html": [
              "<span style=\"color:cyan\"> |-activation: relu</span>"
            ],
            "text/plain": [
              "<IPython.core.display.HTML object>"
            ]
          },
          "metadata": {
            "tags": []
          }
        },
        {
          "output_type": "display_data",
          "data": {
            "text/html": [
              "<span style=\"color:blue\"> |-learning_rate: 0.001</span>"
            ],
            "text/plain": [
              "<IPython.core.display.HTML object>"
            ]
          },
          "metadata": {
            "tags": []
          }
        },
        {
          "output_type": "display_data",
          "data": {
            "text/html": [
              "<span style=\"color:cyan\"> |-number_of_layers: 3</span>"
            ],
            "text/plain": [
              "<IPython.core.display.HTML object>"
            ]
          },
          "metadata": {
            "tags": []
          }
        },
        {
          "output_type": "display_data",
          "data": {
            "text/html": [
              "<span style=\"color:blue\"> |-units: 64</span>"
            ],
            "text/plain": [
              "<IPython.core.display.HTML object>"
            ]
          },
          "metadata": {
            "tags": []
          }
        },
        {
          "output_type": "stream",
          "text": [
            "Epoch 1/10\n",
            "98/98 [==============================] - 1s 5ms/step - loss: 23.7695 - accuracy: 0.6384 - val_loss: 6.6926 - val_accuracy: 0.8328\n",
            "Epoch 2/10\n",
            "98/98 [==============================] - 0s 5ms/step - loss: 5.2343 - accuracy: 0.8587 - val_loss: 4.3308 - val_accuracy: 0.8788\n",
            "Epoch 3/10\n",
            "98/98 [==============================] - 0s 5ms/step - loss: 3.4950 - accuracy: 0.8930 - val_loss: 3.3584 - val_accuracy: 0.8968\n",
            "Epoch 4/10\n",
            "98/98 [==============================] - 0s 4ms/step - loss: 2.5576 - accuracy: 0.9127 - val_loss: 2.8672 - val_accuracy: 0.9064\n",
            "Epoch 5/10\n",
            "98/98 [==============================] - 0s 4ms/step - loss: 1.9926 - accuracy: 0.9251 - val_loss: 2.4852 - val_accuracy: 0.9148\n",
            "Epoch 6/10\n",
            "98/98 [==============================] - 0s 4ms/step - loss: 1.5802 - accuracy: 0.9355 - val_loss: 2.2317 - val_accuracy: 0.9210\n",
            "Epoch 7/10\n",
            "98/98 [==============================] - 0s 4ms/step - loss: 1.2589 - accuracy: 0.9450 - val_loss: 2.0816 - val_accuracy: 0.9243\n",
            "Epoch 8/10\n",
            "98/98 [==============================] - 0s 4ms/step - loss: 1.0282 - accuracy: 0.9502 - val_loss: 1.8697 - val_accuracy: 0.9303\n",
            "Epoch 9/10\n",
            "98/98 [==============================] - 0s 4ms/step - loss: 0.8452 - accuracy: 0.9561 - val_loss: 1.7986 - val_accuracy: 0.9286\n",
            "Epoch 10/10\n",
            "98/98 [==============================] - 0s 4ms/step - loss: 0.6787 - accuracy: 0.9611 - val_loss: 1.6730 - val_accuracy: 0.9325\n",
            "Epoch 1/10\n",
            "98/98 [==============================] - 0s 5ms/step - loss: 19.5661 - accuracy: 0.6780 - val_loss: 5.6247 - val_accuracy: 0.8489\n",
            "Epoch 2/10\n",
            "98/98 [==============================] - 0s 4ms/step - loss: 4.7521 - accuracy: 0.8683 - val_loss: 3.6365 - val_accuracy: 0.8924\n",
            "Epoch 3/10\n",
            "98/98 [==============================] - 0s 4ms/step - loss: 3.1401 - accuracy: 0.9013 - val_loss: 2.8192 - val_accuracy: 0.9089\n",
            "Epoch 4/10\n",
            "98/98 [==============================] - 0s 4ms/step - loss: 2.3314 - accuracy: 0.9179 - val_loss: 2.4176 - val_accuracy: 0.9172\n",
            "Epoch 5/10\n",
            "98/98 [==============================] - 0s 4ms/step - loss: 1.7834 - accuracy: 0.9307 - val_loss: 2.1698 - val_accuracy: 0.9238\n",
            "Epoch 6/10\n",
            "98/98 [==============================] - 0s 4ms/step - loss: 1.4116 - accuracy: 0.9389 - val_loss: 1.8984 - val_accuracy: 0.9280\n",
            "Epoch 7/10\n",
            "98/98 [==============================] - 0s 4ms/step - loss: 1.1013 - accuracy: 0.9481 - val_loss: 1.7929 - val_accuracy: 0.9296\n",
            "Epoch 8/10\n",
            "98/98 [==============================] - 0s 5ms/step - loss: 0.8870 - accuracy: 0.9542 - val_loss: 1.6398 - val_accuracy: 0.9374\n",
            "Epoch 9/10\n",
            "98/98 [==============================] - 0s 4ms/step - loss: 0.7209 - accuracy: 0.9599 - val_loss: 1.5600 - val_accuracy: 0.9376\n",
            "Epoch 10/10\n",
            "98/98 [==============================] - 0s 4ms/step - loss: 0.5846 - accuracy: 0.9654 - val_loss: 1.5045 - val_accuracy: 0.9388\n",
            "Epoch 1/10\n",
            "98/98 [==============================] - 0s 5ms/step - loss: 26.4138 - accuracy: 0.6380 - val_loss: 6.7730 - val_accuracy: 0.8393\n",
            "Epoch 2/10\n",
            "98/98 [==============================] - 0s 4ms/step - loss: 5.3805 - accuracy: 0.8594 - val_loss: 4.4584 - val_accuracy: 0.8826\n",
            "Epoch 3/10\n",
            "98/98 [==============================] - 0s 4ms/step - loss: 3.6217 - accuracy: 0.8949 - val_loss: 3.4669 - val_accuracy: 0.9008\n",
            "Epoch 4/10\n",
            "98/98 [==============================] - 0s 4ms/step - loss: 2.7183 - accuracy: 0.9115 - val_loss: 2.9127 - val_accuracy: 0.9111\n",
            "Epoch 5/10\n",
            "98/98 [==============================] - 0s 4ms/step - loss: 2.1173 - accuracy: 0.9240 - val_loss: 2.5976 - val_accuracy: 0.9190\n",
            "Epoch 6/10\n",
            "98/98 [==============================] - 0s 4ms/step - loss: 1.6941 - accuracy: 0.9346 - val_loss: 2.3277 - val_accuracy: 0.9246\n",
            "Epoch 7/10\n",
            "98/98 [==============================] - 0s 4ms/step - loss: 1.3719 - accuracy: 0.9415 - val_loss: 2.1725 - val_accuracy: 0.9282\n",
            "Epoch 8/10\n",
            "98/98 [==============================] - 0s 4ms/step - loss: 1.1044 - accuracy: 0.9485 - val_loss: 2.0540 - val_accuracy: 0.9321\n",
            "Epoch 9/10\n",
            "98/98 [==============================] - 0s 4ms/step - loss: 0.8951 - accuracy: 0.9554 - val_loss: 1.9262 - val_accuracy: 0.9328\n",
            "Epoch 10/10\n",
            "98/98 [==============================] - 0s 4ms/step - loss: 0.7458 - accuracy: 0.9595 - val_loss: 1.8351 - val_accuracy: 0.9352\n"
          ],
          "name": "stdout"
        },
        {
          "output_type": "display_data",
          "data": {
            "text/html": [
              "<span style=\"color:#4527A0\"><h1 style=\"font-size:18px\">Trial complete</h1></span>"
            ],
            "text/plain": [
              "<IPython.core.display.HTML object>"
            ]
          },
          "metadata": {
            "tags": []
          }
        },
        {
          "output_type": "display_data",
          "data": {
            "text/html": [
              "<span style=\"color:#4527A0\"><h1 style=\"font-size:18px\">Trial summary</h1></span>"
            ],
            "text/plain": [
              "<IPython.core.display.HTML object>"
            ]
          },
          "metadata": {
            "tags": []
          }
        },
        {
          "output_type": "display_data",
          "data": {
            "text/html": [
              "<span style=\"color:cyan\"> |-Trial ID: 006f5f3125367b0aeadf6d98f2c29a1c</span>"
            ],
            "text/plain": [
              "<IPython.core.display.HTML object>"
            ]
          },
          "metadata": {
            "tags": []
          }
        },
        {
          "output_type": "display_data",
          "data": {
            "text/html": [
              "<span style=\"color:cyan\"> |-Score: 0.9354999860127767</span>"
            ],
            "text/plain": [
              "<IPython.core.display.HTML object>"
            ]
          },
          "metadata": {
            "tags": []
          }
        },
        {
          "output_type": "display_data",
          "data": {
            "text/html": [
              "<span style=\"color:cyan\"> |-Best step: 0</span>"
            ],
            "text/plain": [
              "<IPython.core.display.HTML object>"
            ]
          },
          "metadata": {
            "tags": []
          }
        },
        {
          "output_type": "display_data",
          "data": {
            "text/html": [
              "<span style=\"color:#7E57C2\"><h2 style=\"font-size:16px\">Hyperparameters:</h2></span>"
            ],
            "text/plain": [
              "<IPython.core.display.HTML object>"
            ]
          },
          "metadata": {
            "tags": []
          }
        },
        {
          "output_type": "display_data",
          "data": {
            "text/html": [
              "<span style=\"color:cyan\"> |-activation: tanh</span>"
            ],
            "text/plain": [
              "<IPython.core.display.HTML object>"
            ]
          },
          "metadata": {
            "tags": []
          }
        },
        {
          "output_type": "display_data",
          "data": {
            "text/html": [
              "<span style=\"color:blue\"> |-learning_rate: 0.0001</span>"
            ],
            "text/plain": [
              "<IPython.core.display.HTML object>"
            ]
          },
          "metadata": {
            "tags": []
          }
        },
        {
          "output_type": "display_data",
          "data": {
            "text/html": [
              "<span style=\"color:cyan\"> |-number_of_layers: 0</span>"
            ],
            "text/plain": [
              "<IPython.core.display.HTML object>"
            ]
          },
          "metadata": {
            "tags": []
          }
        },
        {
          "output_type": "display_data",
          "data": {
            "text/html": [
              "<span style=\"color:blue\"> |-units: 512</span>"
            ],
            "text/plain": [
              "<IPython.core.display.HTML object>"
            ]
          },
          "metadata": {
            "tags": []
          }
        },
        {
          "output_type": "stream",
          "text": [
            "Epoch 1/10\n",
            "98/98 [==============================] - 1s 6ms/step - loss: 4.8270 - accuracy: 0.4886 - val_loss: 1.3548 - val_accuracy: 0.7196\n",
            "Epoch 2/10\n",
            "98/98 [==============================] - 0s 5ms/step - loss: 1.0167 - accuracy: 0.7717 - val_loss: 0.8320 - val_accuracy: 0.8182\n",
            "Epoch 3/10\n",
            "98/98 [==============================] - 0s 5ms/step - loss: 0.6421 - accuracy: 0.8452 - val_loss: 0.6392 - val_accuracy: 0.8563\n",
            "Epoch 4/10\n",
            "98/98 [==============================] - 0s 5ms/step - loss: 0.4673 - accuracy: 0.8826 - val_loss: 0.5406 - val_accuracy: 0.8765\n",
            "Epoch 5/10\n",
            "98/98 [==============================] - 0s 5ms/step - loss: 0.3644 - accuracy: 0.9053 - val_loss: 0.4744 - val_accuracy: 0.8910\n",
            "Epoch 6/10\n",
            "98/98 [==============================] - 0s 5ms/step - loss: 0.2959 - accuracy: 0.9218 - val_loss: 0.4340 - val_accuracy: 0.8991\n",
            "Epoch 7/10\n",
            "98/98 [==============================] - 0s 5ms/step - loss: 0.2458 - accuracy: 0.9341 - val_loss: 0.3975 - val_accuracy: 0.9077\n",
            "Epoch 8/10\n",
            "98/98 [==============================] - 0s 5ms/step - loss: 0.2087 - accuracy: 0.9434 - val_loss: 0.3739 - val_accuracy: 0.9120\n",
            "Epoch 9/10\n",
            "98/98 [==============================] - 0s 5ms/step - loss: 0.1784 - accuracy: 0.9511 - val_loss: 0.3533 - val_accuracy: 0.9181\n",
            "Epoch 10/10\n",
            "98/98 [==============================] - 0s 5ms/step - loss: 0.1547 - accuracy: 0.9579 - val_loss: 0.3349 - val_accuracy: 0.9204\n",
            "Epoch 1/10\n",
            "98/98 [==============================] - 1s 5ms/step - loss: 5.3851 - accuracy: 0.4631 - val_loss: 1.5650 - val_accuracy: 0.6631\n",
            "Epoch 2/10\n",
            "98/98 [==============================] - 0s 4ms/step - loss: 1.1814 - accuracy: 0.7370 - val_loss: 0.9383 - val_accuracy: 0.7806\n",
            "Epoch 3/10\n",
            "98/98 [==============================] - 0s 4ms/step - loss: 0.7595 - accuracy: 0.8149 - val_loss: 0.7059 - val_accuracy: 0.8280\n",
            "Epoch 4/10\n",
            "98/98 [==============================] - 0s 4ms/step - loss: 0.5665 - accuracy: 0.8559 - val_loss: 0.5961 - val_accuracy: 0.8582\n",
            "Epoch 5/10\n",
            "98/98 [==============================] - 0s 4ms/step - loss: 0.4482 - accuracy: 0.8817 - val_loss: 0.5255 - val_accuracy: 0.8723\n",
            "Epoch 6/10\n",
            "98/98 [==============================] - 0s 4ms/step - loss: 0.3721 - accuracy: 0.8999 - val_loss: 0.4767 - val_accuracy: 0.8824\n",
            "Epoch 7/10\n",
            "98/98 [==============================] - 0s 5ms/step - loss: 0.3127 - accuracy: 0.9152 - val_loss: 0.4446 - val_accuracy: 0.8901\n",
            "Epoch 8/10\n",
            "98/98 [==============================] - 0s 4ms/step - loss: 0.2682 - accuracy: 0.9263 - val_loss: 0.4222 - val_accuracy: 0.8947\n",
            "Epoch 9/10\n",
            "98/98 [==============================] - 0s 4ms/step - loss: 0.2335 - accuracy: 0.9356 - val_loss: 0.3966 - val_accuracy: 0.9026\n",
            "Epoch 10/10\n",
            "98/98 [==============================] - 0s 5ms/step - loss: 0.2041 - accuracy: 0.9434 - val_loss: 0.3804 - val_accuracy: 0.9074\n",
            "Epoch 1/10\n",
            "98/98 [==============================] - 1s 5ms/step - loss: 4.8401 - accuracy: 0.4599 - val_loss: 1.3188 - val_accuracy: 0.6833\n",
            "Epoch 2/10\n",
            "98/98 [==============================] - 0s 4ms/step - loss: 1.0104 - accuracy: 0.7475 - val_loss: 0.8361 - val_accuracy: 0.7910\n",
            "Epoch 3/10\n",
            "98/98 [==============================] - 0s 5ms/step - loss: 0.6767 - accuracy: 0.8232 - val_loss: 0.6478 - val_accuracy: 0.8360\n",
            "Epoch 4/10\n",
            "98/98 [==============================] - 0s 4ms/step - loss: 0.5122 - accuracy: 0.8611 - val_loss: 0.5508 - val_accuracy: 0.8587\n",
            "Epoch 5/10\n",
            "98/98 [==============================] - 0s 5ms/step - loss: 0.4125 - accuracy: 0.8863 - val_loss: 0.4780 - val_accuracy: 0.8740\n",
            "Epoch 6/10\n",
            "98/98 [==============================] - 0s 4ms/step - loss: 0.3430 - accuracy: 0.9043 - val_loss: 0.4358 - val_accuracy: 0.8850\n",
            "Epoch 7/10\n",
            "98/98 [==============================] - 0s 5ms/step - loss: 0.2909 - accuracy: 0.9176 - val_loss: 0.3945 - val_accuracy: 0.8968\n",
            "Epoch 8/10\n",
            "98/98 [==============================] - 0s 4ms/step - loss: 0.2513 - accuracy: 0.9293 - val_loss: 0.3718 - val_accuracy: 0.9044\n",
            "Epoch 9/10\n",
            "98/98 [==============================] - 0s 4ms/step - loss: 0.2188 - accuracy: 0.9379 - val_loss: 0.3521 - val_accuracy: 0.9089\n",
            "Epoch 10/10\n",
            "98/98 [==============================] - 0s 4ms/step - loss: 0.1914 - accuracy: 0.9458 - val_loss: 0.3362 - val_accuracy: 0.9139\n"
          ],
          "name": "stdout"
        },
        {
          "output_type": "display_data",
          "data": {
            "text/html": [
              "<span style=\"color:#4527A0\"><h1 style=\"font-size:18px\">Trial complete</h1></span>"
            ],
            "text/plain": [
              "<IPython.core.display.HTML object>"
            ]
          },
          "metadata": {
            "tags": []
          }
        },
        {
          "output_type": "display_data",
          "data": {
            "text/html": [
              "<span style=\"color:#4527A0\"><h1 style=\"font-size:18px\">Trial summary</h1></span>"
            ],
            "text/plain": [
              "<IPython.core.display.HTML object>"
            ]
          },
          "metadata": {
            "tags": []
          }
        },
        {
          "output_type": "display_data",
          "data": {
            "text/html": [
              "<span style=\"color:cyan\"> |-Trial ID: e549913ceac5341efd19c90d4fe34c58</span>"
            ],
            "text/plain": [
              "<IPython.core.display.HTML object>"
            ]
          },
          "metadata": {
            "tags": []
          }
        },
        {
          "output_type": "display_data",
          "data": {
            "text/html": [
              "<span style=\"color:cyan\"> |-Score: 0.9139000177383423</span>"
            ],
            "text/plain": [
              "<IPython.core.display.HTML object>"
            ]
          },
          "metadata": {
            "tags": []
          }
        },
        {
          "output_type": "display_data",
          "data": {
            "text/html": [
              "<span style=\"color:cyan\"> |-Best step: 0</span>"
            ],
            "text/plain": [
              "<IPython.core.display.HTML object>"
            ]
          },
          "metadata": {
            "tags": []
          }
        },
        {
          "output_type": "display_data",
          "data": {
            "text/html": [
              "<span style=\"color:#7E57C2\"><h2 style=\"font-size:16px\">Hyperparameters:</h2></span>"
            ],
            "text/plain": [
              "<IPython.core.display.HTML object>"
            ]
          },
          "metadata": {
            "tags": []
          }
        },
        {
          "output_type": "display_data",
          "data": {
            "text/html": [
              "<span style=\"color:cyan\"> |-activation: relu</span>"
            ],
            "text/plain": [
              "<IPython.core.display.HTML object>"
            ]
          },
          "metadata": {
            "tags": []
          }
        },
        {
          "output_type": "display_data",
          "data": {
            "text/html": [
              "<span style=\"color:blue\"> |-learning_rate: 0.0001</span>"
            ],
            "text/plain": [
              "<IPython.core.display.HTML object>"
            ]
          },
          "metadata": {
            "tags": []
          }
        },
        {
          "output_type": "display_data",
          "data": {
            "text/html": [
              "<span style=\"color:cyan\"> |-number_of_layers: 4</span>"
            ],
            "text/plain": [
              "<IPython.core.display.HTML object>"
            ]
          },
          "metadata": {
            "tags": []
          }
        },
        {
          "output_type": "display_data",
          "data": {
            "text/html": [
              "<span style=\"color:blue\"> |-units: 512</span>"
            ],
            "text/plain": [
              "<IPython.core.display.HTML object>"
            ]
          },
          "metadata": {
            "tags": []
          }
        },
        {
          "output_type": "stream",
          "text": [
            "Epoch 1/10\n",
            "98/98 [==============================] - 1s 5ms/step - loss: 2.0729 - accuracy: 0.2809 - val_loss: 1.7214 - val_accuracy: 0.4593\n",
            "Epoch 2/10\n",
            "98/98 [==============================] - 0s 5ms/step - loss: 1.4785 - accuracy: 0.5398 - val_loss: 1.2585 - val_accuracy: 0.6163\n",
            "Epoch 3/10\n",
            "98/98 [==============================] - 0s 4ms/step - loss: 1.1129 - accuracy: 0.6670 - val_loss: 0.9839 - val_accuracy: 0.7096\n",
            "Epoch 4/10\n",
            "98/98 [==============================] - 0s 5ms/step - loss: 0.8912 - accuracy: 0.7346 - val_loss: 0.8096 - val_accuracy: 0.7613\n",
            "Epoch 5/10\n",
            "98/98 [==============================] - 0s 5ms/step - loss: 0.7408 - accuracy: 0.7796 - val_loss: 0.6867 - val_accuracy: 0.7971\n",
            "Epoch 6/10\n",
            "98/98 [==============================] - 0s 4ms/step - loss: 0.6350 - accuracy: 0.8109 - val_loss: 0.6022 - val_accuracy: 0.8260\n",
            "Epoch 7/10\n",
            "98/98 [==============================] - 0s 5ms/step - loss: 0.5627 - accuracy: 0.8327 - val_loss: 0.5393 - val_accuracy: 0.8445\n",
            "Epoch 8/10\n",
            "98/98 [==============================] - 0s 5ms/step - loss: 0.5083 - accuracy: 0.8497 - val_loss: 0.4951 - val_accuracy: 0.8549\n",
            "Epoch 9/10\n",
            "98/98 [==============================] - 0s 4ms/step - loss: 0.4684 - accuracy: 0.8606 - val_loss: 0.4591 - val_accuracy: 0.8657\n",
            "Epoch 10/10\n",
            "98/98 [==============================] - 0s 5ms/step - loss: 0.4348 - accuracy: 0.8707 - val_loss: 0.4361 - val_accuracy: 0.8725\n",
            "Epoch 1/10\n",
            "98/98 [==============================] - 1s 5ms/step - loss: 2.0790 - accuracy: 0.2699 - val_loss: 1.7221 - val_accuracy: 0.4789\n",
            "Epoch 2/10\n",
            "98/98 [==============================] - 0s 4ms/step - loss: 1.4690 - accuracy: 0.5746 - val_loss: 1.2087 - val_accuracy: 0.6680\n",
            "Epoch 3/10\n",
            "98/98 [==============================] - 0s 4ms/step - loss: 1.0549 - accuracy: 0.7066 - val_loss: 0.8918 - val_accuracy: 0.7551\n",
            "Epoch 4/10\n",
            "98/98 [==============================] - 0s 4ms/step - loss: 0.8097 - accuracy: 0.7718 - val_loss: 0.7116 - val_accuracy: 0.8013\n",
            "Epoch 5/10\n",
            "98/98 [==============================] - 0s 4ms/step - loss: 0.6623 - accuracy: 0.8078 - val_loss: 0.6025 - val_accuracy: 0.8273\n",
            "Epoch 6/10\n",
            "98/98 [==============================] - 0s 5ms/step - loss: 0.5735 - accuracy: 0.8311 - val_loss: 0.5357 - val_accuracy: 0.8405\n",
            "Epoch 7/10\n",
            "98/98 [==============================] - 0s 4ms/step - loss: 0.5101 - accuracy: 0.8490 - val_loss: 0.4864 - val_accuracy: 0.8550\n",
            "Epoch 8/10\n",
            "98/98 [==============================] - 0s 4ms/step - loss: 0.4645 - accuracy: 0.8608 - val_loss: 0.4543 - val_accuracy: 0.8613\n",
            "Epoch 9/10\n",
            "98/98 [==============================] - 0s 4ms/step - loss: 0.4335 - accuracy: 0.8698 - val_loss: 0.4270 - val_accuracy: 0.8706\n",
            "Epoch 10/10\n",
            "98/98 [==============================] - 0s 5ms/step - loss: 0.4066 - accuracy: 0.8781 - val_loss: 0.4075 - val_accuracy: 0.8750\n",
            "Epoch 1/10\n",
            "98/98 [==============================] - 1s 6ms/step - loss: 2.0049 - accuracy: 0.3190 - val_loss: 1.6740 - val_accuracy: 0.5063\n",
            "Epoch 2/10\n",
            "98/98 [==============================] - 0s 4ms/step - loss: 1.4341 - accuracy: 0.5843 - val_loss: 1.2059 - val_accuracy: 0.6611\n",
            "Epoch 3/10\n",
            "98/98 [==============================] - 0s 5ms/step - loss: 1.0701 - accuracy: 0.6914 - val_loss: 0.9360 - val_accuracy: 0.7355\n",
            "Epoch 4/10\n",
            "98/98 [==============================] - 0s 5ms/step - loss: 0.8577 - accuracy: 0.7517 - val_loss: 0.7739 - val_accuracy: 0.7757\n",
            "Epoch 5/10\n",
            "98/98 [==============================] - 0s 5ms/step - loss: 0.7241 - accuracy: 0.7903 - val_loss: 0.6678 - val_accuracy: 0.8059\n",
            "Epoch 6/10\n",
            "98/98 [==============================] - 0s 5ms/step - loss: 0.6322 - accuracy: 0.8147 - val_loss: 0.5978 - val_accuracy: 0.8245\n",
            "Epoch 7/10\n",
            "98/98 [==============================] - 0s 5ms/step - loss: 0.5674 - accuracy: 0.8337 - val_loss: 0.5451 - val_accuracy: 0.8400\n",
            "Epoch 8/10\n",
            "98/98 [==============================] - 0s 4ms/step - loss: 0.5182 - accuracy: 0.8478 - val_loss: 0.5037 - val_accuracy: 0.8510\n",
            "Epoch 9/10\n",
            "98/98 [==============================] - 0s 4ms/step - loss: 0.4805 - accuracy: 0.8579 - val_loss: 0.4684 - val_accuracy: 0.8645\n",
            "Epoch 10/10\n",
            "98/98 [==============================] - 0s 5ms/step - loss: 0.4516 - accuracy: 0.8667 - val_loss: 0.4447 - val_accuracy: 0.8677\n"
          ],
          "name": "stdout"
        },
        {
          "output_type": "display_data",
          "data": {
            "text/html": [
              "<span style=\"color:#4527A0\"><h1 style=\"font-size:18px\">Trial complete</h1></span>"
            ],
            "text/plain": [
              "<IPython.core.display.HTML object>"
            ]
          },
          "metadata": {
            "tags": []
          }
        },
        {
          "output_type": "display_data",
          "data": {
            "text/html": [
              "<span style=\"color:#4527A0\"><h1 style=\"font-size:18px\">Trial summary</h1></span>"
            ],
            "text/plain": [
              "<IPython.core.display.HTML object>"
            ]
          },
          "metadata": {
            "tags": []
          }
        },
        {
          "output_type": "display_data",
          "data": {
            "text/html": [
              "<span style=\"color:cyan\"> |-Trial ID: d47fb1b0610846fea47c6f6763d761d2</span>"
            ],
            "text/plain": [
              "<IPython.core.display.HTML object>"
            ]
          },
          "metadata": {
            "tags": []
          }
        },
        {
          "output_type": "display_data",
          "data": {
            "text/html": [
              "<span style=\"color:cyan\"> |-Score: 0.8717333277066549</span>"
            ],
            "text/plain": [
              "<IPython.core.display.HTML object>"
            ]
          },
          "metadata": {
            "tags": []
          }
        },
        {
          "output_type": "display_data",
          "data": {
            "text/html": [
              "<span style=\"color:cyan\"> |-Best step: 0</span>"
            ],
            "text/plain": [
              "<IPython.core.display.HTML object>"
            ]
          },
          "metadata": {
            "tags": []
          }
        },
        {
          "output_type": "display_data",
          "data": {
            "text/html": [
              "<span style=\"color:#7E57C2\"><h2 style=\"font-size:16px\">Hyperparameters:</h2></span>"
            ],
            "text/plain": [
              "<IPython.core.display.HTML object>"
            ]
          },
          "metadata": {
            "tags": []
          }
        },
        {
          "output_type": "display_data",
          "data": {
            "text/html": [
              "<span style=\"color:cyan\"> |-activation: tanh</span>"
            ],
            "text/plain": [
              "<IPython.core.display.HTML object>"
            ]
          },
          "metadata": {
            "tags": []
          }
        },
        {
          "output_type": "display_data",
          "data": {
            "text/html": [
              "<span style=\"color:blue\"> |-learning_rate: 0.0001</span>"
            ],
            "text/plain": [
              "<IPython.core.display.HTML object>"
            ]
          },
          "metadata": {
            "tags": []
          }
        },
        {
          "output_type": "display_data",
          "data": {
            "text/html": [
              "<span style=\"color:cyan\"> |-number_of_layers: 4</span>"
            ],
            "text/plain": [
              "<IPython.core.display.HTML object>"
            ]
          },
          "metadata": {
            "tags": []
          }
        },
        {
          "output_type": "display_data",
          "data": {
            "text/html": [
              "<span style=\"color:blue\"> |-units: 32</span>"
            ],
            "text/plain": [
              "<IPython.core.display.HTML object>"
            ]
          },
          "metadata": {
            "tags": []
          }
        },
        {
          "output_type": "stream",
          "text": [
            "Epoch 1/10\n",
            "98/98 [==============================] - 0s 5ms/step - loss: 57.4071 - accuracy: 0.1973 - val_loss: 20.2309 - val_accuracy: 0.3148\n",
            "Epoch 2/10\n",
            "98/98 [==============================] - 0s 4ms/step - loss: 12.0346 - accuracy: 0.3340 - val_loss: 6.6622 - val_accuracy: 0.3638\n",
            "Epoch 3/10\n",
            "98/98 [==============================] - 0s 4ms/step - loss: 4.8219 - accuracy: 0.3614 - val_loss: 3.6668 - val_accuracy: 0.3685\n",
            "Epoch 4/10\n",
            "98/98 [==============================] - 0s 4ms/step - loss: 3.1480 - accuracy: 0.3591 - val_loss: 2.7979 - val_accuracy: 0.3695\n",
            "Epoch 5/10\n",
            "98/98 [==============================] - 0s 4ms/step - loss: 2.5722 - accuracy: 0.3611 - val_loss: 2.4251 - val_accuracy: 0.3722\n",
            "Epoch 6/10\n",
            "98/98 [==============================] - 0s 4ms/step - loss: 2.3035 - accuracy: 0.3673 - val_loss: 2.2268 - val_accuracy: 0.3812\n",
            "Epoch 7/10\n",
            "98/98 [==============================] - 0s 4ms/step - loss: 2.1449 - accuracy: 0.3736 - val_loss: 2.1026 - val_accuracy: 0.3883\n",
            "Epoch 8/10\n",
            "98/98 [==============================] - 0s 4ms/step - loss: 2.0359 - accuracy: 0.3836 - val_loss: 2.0118 - val_accuracy: 0.3964\n",
            "Epoch 9/10\n",
            "98/98 [==============================] - 0s 4ms/step - loss: 1.9560 - accuracy: 0.3913 - val_loss: 1.9393 - val_accuracy: 0.4047\n",
            "Epoch 10/10\n",
            "98/98 [==============================] - 0s 4ms/step - loss: 1.8885 - accuracy: 0.3997 - val_loss: 1.8814 - val_accuracy: 0.4153\n",
            "Epoch 1/10\n",
            "98/98 [==============================] - 0s 5ms/step - loss: 72.0083 - accuracy: 0.2025 - val_loss: 25.9735 - val_accuracy: 0.3728\n",
            "Epoch 2/10\n",
            "98/98 [==============================] - 0s 4ms/step - loss: 17.2829 - accuracy: 0.4462 - val_loss: 11.0620 - val_accuracy: 0.5038\n",
            "Epoch 3/10\n",
            "98/98 [==============================] - 0s 4ms/step - loss: 8.4184 - accuracy: 0.4911 - val_loss: 5.8628 - val_accuracy: 0.4843\n",
            "Epoch 4/10\n",
            "98/98 [==============================] - 0s 4ms/step - loss: 4.6386 - accuracy: 0.4578 - val_loss: 3.5212 - val_accuracy: 0.4580\n",
            "Epoch 5/10\n",
            "98/98 [==============================] - 0s 4ms/step - loss: 3.0585 - accuracy: 0.4549 - val_loss: 2.6375 - val_accuracy: 0.4712\n",
            "Epoch 6/10\n",
            "98/98 [==============================] - 0s 4ms/step - loss: 2.4447 - accuracy: 0.4612 - val_loss: 2.2507 - val_accuracy: 0.4652\n",
            "Epoch 7/10\n",
            "98/98 [==============================] - 0s 4ms/step - loss: 2.1654 - accuracy: 0.4580 - val_loss: 2.0436 - val_accuracy: 0.4669\n",
            "Epoch 8/10\n",
            "98/98 [==============================] - 0s 4ms/step - loss: 2.0005 - accuracy: 0.4686 - val_loss: 1.9136 - val_accuracy: 0.4810\n",
            "Epoch 9/10\n",
            "98/98 [==============================] - 0s 4ms/step - loss: 1.8856 - accuracy: 0.4830 - val_loss: 1.8230 - val_accuracy: 0.4904\n",
            "Epoch 10/10\n",
            "98/98 [==============================] - 0s 4ms/step - loss: 1.7956 - accuracy: 0.4948 - val_loss: 1.7418 - val_accuracy: 0.5078\n",
            "Epoch 1/10\n",
            "98/98 [==============================] - 0s 5ms/step - loss: 70.9566 - accuracy: 0.1953 - val_loss: 29.3808 - val_accuracy: 0.3306\n",
            "Epoch 2/10\n",
            "98/98 [==============================] - 0s 4ms/step - loss: 19.6231 - accuracy: 0.4372 - val_loss: 13.0533 - val_accuracy: 0.5074\n",
            "Epoch 3/10\n",
            "98/98 [==============================] - 0s 4ms/step - loss: 9.9204 - accuracy: 0.5299 - val_loss: 7.0246 - val_accuracy: 0.5406\n",
            "Epoch 4/10\n",
            "98/98 [==============================] - 0s 4ms/step - loss: 5.4002 - accuracy: 0.5408 - val_loss: 3.9773 - val_accuracy: 0.5453\n",
            "Epoch 5/10\n",
            "98/98 [==============================] - 0s 4ms/step - loss: 3.3192 - accuracy: 0.5377 - val_loss: 2.7536 - val_accuracy: 0.5312\n",
            "Epoch 6/10\n",
            "98/98 [==============================] - 0s 4ms/step - loss: 2.4877 - accuracy: 0.5315 - val_loss: 2.2234 - val_accuracy: 0.5255\n",
            "Epoch 7/10\n",
            "98/98 [==============================] - 0s 4ms/step - loss: 2.0969 - accuracy: 0.5313 - val_loss: 1.9451 - val_accuracy: 0.5335\n",
            "Epoch 8/10\n",
            "98/98 [==============================] - 0s 4ms/step - loss: 1.8727 - accuracy: 0.5401 - val_loss: 1.7710 - val_accuracy: 0.5410\n",
            "Epoch 9/10\n",
            "98/98 [==============================] - 0s 4ms/step - loss: 1.7232 - accuracy: 0.5517 - val_loss: 1.6472 - val_accuracy: 0.5599\n",
            "Epoch 10/10\n",
            "98/98 [==============================] - 0s 4ms/step - loss: 1.6153 - accuracy: 0.5665 - val_loss: 1.5548 - val_accuracy: 0.5736\n"
          ],
          "name": "stdout"
        },
        {
          "output_type": "display_data",
          "data": {
            "text/html": [
              "<span style=\"color:#4527A0\"><h1 style=\"font-size:18px\">Trial complete</h1></span>"
            ],
            "text/plain": [
              "<IPython.core.display.HTML object>"
            ]
          },
          "metadata": {
            "tags": []
          }
        },
        {
          "output_type": "display_data",
          "data": {
            "text/html": [
              "<span style=\"color:#4527A0\"><h1 style=\"font-size:18px\">Trial summary</h1></span>"
            ],
            "text/plain": [
              "<IPython.core.display.HTML object>"
            ]
          },
          "metadata": {
            "tags": []
          }
        },
        {
          "output_type": "display_data",
          "data": {
            "text/html": [
              "<span style=\"color:cyan\"> |-Trial ID: 95f031a18f4c09ed22e586956d65d591</span>"
            ],
            "text/plain": [
              "<IPython.core.display.HTML object>"
            ]
          },
          "metadata": {
            "tags": []
          }
        },
        {
          "output_type": "display_data",
          "data": {
            "text/html": [
              "<span style=\"color:cyan\"> |-Score: 0.49889999628067017</span>"
            ],
            "text/plain": [
              "<IPython.core.display.HTML object>"
            ]
          },
          "metadata": {
            "tags": []
          }
        },
        {
          "output_type": "display_data",
          "data": {
            "text/html": [
              "<span style=\"color:cyan\"> |-Best step: 0</span>"
            ],
            "text/plain": [
              "<IPython.core.display.HTML object>"
            ]
          },
          "metadata": {
            "tags": []
          }
        },
        {
          "output_type": "display_data",
          "data": {
            "text/html": [
              "<span style=\"color:#7E57C2\"><h2 style=\"font-size:16px\">Hyperparameters:</h2></span>"
            ],
            "text/plain": [
              "<IPython.core.display.HTML object>"
            ]
          },
          "metadata": {
            "tags": []
          }
        },
        {
          "output_type": "display_data",
          "data": {
            "text/html": [
              "<span style=\"color:cyan\"> |-activation: relu</span>"
            ],
            "text/plain": [
              "<IPython.core.display.HTML object>"
            ]
          },
          "metadata": {
            "tags": []
          }
        },
        {
          "output_type": "display_data",
          "data": {
            "text/html": [
              "<span style=\"color:blue\"> |-learning_rate: 0.0001</span>"
            ],
            "text/plain": [
              "<IPython.core.display.HTML object>"
            ]
          },
          "metadata": {
            "tags": []
          }
        },
        {
          "output_type": "display_data",
          "data": {
            "text/html": [
              "<span style=\"color:cyan\"> |-number_of_layers: 0</span>"
            ],
            "text/plain": [
              "<IPython.core.display.HTML object>"
            ]
          },
          "metadata": {
            "tags": []
          }
        },
        {
          "output_type": "display_data",
          "data": {
            "text/html": [
              "<span style=\"color:blue\"> |-units: 32</span>"
            ],
            "text/plain": [
              "<IPython.core.display.HTML object>"
            ]
          },
          "metadata": {
            "tags": []
          }
        },
        {
          "output_type": "stream",
          "text": [
            "Epoch 1/10\n",
            "98/98 [==============================] - 1s 5ms/step - loss: 2.0664 - accuracy: 0.2225 - val_loss: 2.1402 - val_accuracy: 0.1883\n",
            "Epoch 2/10\n",
            "98/98 [==============================] - 0s 4ms/step - loss: 2.3246 - accuracy: 0.1054 - val_loss: 2.3104 - val_accuracy: 0.0991\n",
            "Epoch 1/10\n",
            "98/98 [==============================] - 1s 5ms/step - loss: 2.2354 - accuracy: 0.1598 - val_loss: 2.1100 - val_accuracy: 0.1821\n",
            "Epoch 2/10\n",
            "98/98 [==============================] - 0s 5ms/step - loss: 2.0548 - accuracy: 0.1942 - val_loss: 2.1497 - val_accuracy: 0.1394\n",
            "Epoch 1/10\n",
            "98/98 [==============================] - 1s 6ms/step - loss: 2.0642 - accuracy: 0.2284 - val_loss: 2.0577 - val_accuracy: 0.1920\n",
            "Epoch 2/10\n",
            "98/98 [==============================] - 0s 5ms/step - loss: 2.0377 - accuracy: 0.2284 - val_loss: 2.1048 - val_accuracy: 0.1828\n"
          ],
          "name": "stdout"
        },
        {
          "output_type": "display_data",
          "data": {
            "text/html": [
              "<span style=\"color:#4527A0\"><h1 style=\"font-size:18px\">Trial complete</h1></span>"
            ],
            "text/plain": [
              "<IPython.core.display.HTML object>"
            ]
          },
          "metadata": {
            "tags": []
          }
        },
        {
          "output_type": "display_data",
          "data": {
            "text/html": [
              "<span style=\"color:#4527A0\"><h1 style=\"font-size:18px\">Trial summary</h1></span>"
            ],
            "text/plain": [
              "<IPython.core.display.HTML object>"
            ]
          },
          "metadata": {
            "tags": []
          }
        },
        {
          "output_type": "display_data",
          "data": {
            "text/html": [
              "<span style=\"color:cyan\"> |-Trial ID: 478127ac2752e369a06c12d735c6a865</span>"
            ],
            "text/plain": [
              "<IPython.core.display.HTML object>"
            ]
          },
          "metadata": {
            "tags": []
          }
        },
        {
          "output_type": "display_data",
          "data": {
            "text/html": [
              "<span style=\"color:cyan\"> |-Score: 0.18746666610240936</span>"
            ],
            "text/plain": [
              "<IPython.core.display.HTML object>"
            ]
          },
          "metadata": {
            "tags": []
          }
        },
        {
          "output_type": "display_data",
          "data": {
            "text/html": [
              "<span style=\"color:cyan\"> |-Best step: 0</span>"
            ],
            "text/plain": [
              "<IPython.core.display.HTML object>"
            ]
          },
          "metadata": {
            "tags": []
          }
        },
        {
          "output_type": "display_data",
          "data": {
            "text/html": [
              "<span style=\"color:#7E57C2\"><h2 style=\"font-size:16px\">Hyperparameters:</h2></span>"
            ],
            "text/plain": [
              "<IPython.core.display.HTML object>"
            ]
          },
          "metadata": {
            "tags": []
          }
        },
        {
          "output_type": "display_data",
          "data": {
            "text/html": [
              "<span style=\"color:cyan\"> |-activation: tanh</span>"
            ],
            "text/plain": [
              "<IPython.core.display.HTML object>"
            ]
          },
          "metadata": {
            "tags": []
          }
        },
        {
          "output_type": "display_data",
          "data": {
            "text/html": [
              "<span style=\"color:blue\"> |-learning_rate: 0.01</span>"
            ],
            "text/plain": [
              "<IPython.core.display.HTML object>"
            ]
          },
          "metadata": {
            "tags": []
          }
        },
        {
          "output_type": "display_data",
          "data": {
            "text/html": [
              "<span style=\"color:cyan\"> |-number_of_layers: 4</span>"
            ],
            "text/plain": [
              "<IPython.core.display.HTML object>"
            ]
          },
          "metadata": {
            "tags": []
          }
        },
        {
          "output_type": "display_data",
          "data": {
            "text/html": [
              "<span style=\"color:blue\"> |-units: 512</span>"
            ],
            "text/plain": [
              "<IPython.core.display.HTML object>"
            ]
          },
          "metadata": {
            "tags": []
          }
        },
        {
          "output_type": "stream",
          "text": [
            "Epoch 1/10\n",
            "98/98 [==============================] - 0s 5ms/step - loss: 36.9985 - accuracy: 0.7978 - val_loss: 0.6436 - val_accuracy: 0.8644\n",
            "Epoch 2/10\n",
            "98/98 [==============================] - 0s 4ms/step - loss: 0.5043 - accuracy: 0.8863 - val_loss: 0.4889 - val_accuracy: 0.9059\n",
            "Epoch 3/10\n",
            "98/98 [==============================] - 0s 4ms/step - loss: 0.3598 - accuracy: 0.9148 - val_loss: 0.4098 - val_accuracy: 0.9172\n",
            "Epoch 4/10\n",
            "98/98 [==============================] - 0s 5ms/step - loss: 0.2909 - accuracy: 0.9259 - val_loss: 0.3662 - val_accuracy: 0.9274\n",
            "Epoch 5/10\n",
            "98/98 [==============================] - 0s 4ms/step - loss: 0.2515 - accuracy: 0.9336 - val_loss: 0.3473 - val_accuracy: 0.9315\n",
            "Epoch 6/10\n",
            "98/98 [==============================] - 0s 4ms/step - loss: 0.2242 - accuracy: 0.9404 - val_loss: 0.3196 - val_accuracy: 0.9322\n",
            "Epoch 7/10\n",
            "98/98 [==============================] - 0s 4ms/step - loss: 0.1905 - accuracy: 0.9456 - val_loss: 0.3161 - val_accuracy: 0.9399\n",
            "Epoch 8/10\n",
            "98/98 [==============================] - 0s 4ms/step - loss: 0.1783 - accuracy: 0.9499 - val_loss: 0.3103 - val_accuracy: 0.9316\n",
            "Epoch 9/10\n",
            "98/98 [==============================] - 0s 5ms/step - loss: 0.1731 - accuracy: 0.9518 - val_loss: 0.3023 - val_accuracy: 0.9401\n",
            "Epoch 10/10\n",
            "98/98 [==============================] - 0s 4ms/step - loss: 0.1613 - accuracy: 0.9553 - val_loss: 0.3164 - val_accuracy: 0.9392\n",
            "Epoch 1/10\n",
            "98/98 [==============================] - 0s 5ms/step - loss: 41.1922 - accuracy: 0.7299 - val_loss: 0.7406 - val_accuracy: 0.8242\n",
            "Epoch 2/10\n",
            "98/98 [==============================] - 0s 4ms/step - loss: 0.5920 - accuracy: 0.8544 - val_loss: 0.5285 - val_accuracy: 0.8686\n",
            "Epoch 3/10\n",
            "98/98 [==============================] - 0s 4ms/step - loss: 0.4187 - accuracy: 0.8905 - val_loss: 0.4414 - val_accuracy: 0.8911\n",
            "Epoch 4/10\n",
            "98/98 [==============================] - 0s 4ms/step - loss: 0.3244 - accuracy: 0.9107 - val_loss: 0.3800 - val_accuracy: 0.9118\n",
            "Epoch 5/10\n",
            "98/98 [==============================] - 0s 4ms/step - loss: 0.2783 - accuracy: 0.9247 - val_loss: 0.3421 - val_accuracy: 0.9240\n",
            "Epoch 6/10\n",
            "98/98 [==============================] - 0s 4ms/step - loss: 0.2337 - accuracy: 0.9355 - val_loss: 0.3408 - val_accuracy: 0.9256\n",
            "Epoch 7/10\n",
            "98/98 [==============================] - 0s 4ms/step - loss: 0.2135 - accuracy: 0.9420 - val_loss: 0.3867 - val_accuracy: 0.9272\n",
            "Epoch 1/10\n",
            "98/98 [==============================] - 0s 5ms/step - loss: 47.1179 - accuracy: 0.7552 - val_loss: 0.7566 - val_accuracy: 0.8245\n",
            "Epoch 2/10\n",
            "98/98 [==============================] - 0s 4ms/step - loss: 0.6003 - accuracy: 0.8556 - val_loss: 0.5450 - val_accuracy: 0.8793\n",
            "Epoch 3/10\n",
            "98/98 [==============================] - 0s 4ms/step - loss: 0.4128 - accuracy: 0.8965 - val_loss: 0.4505 - val_accuracy: 0.8992\n",
            "Epoch 4/10\n",
            "98/98 [==============================] - 0s 4ms/step - loss: 0.3114 - accuracy: 0.9164 - val_loss: 0.4222 - val_accuracy: 0.9126\n",
            "Epoch 5/10\n",
            "98/98 [==============================] - 0s 4ms/step - loss: 0.2649 - accuracy: 0.9282 - val_loss: 0.3701 - val_accuracy: 0.9225\n",
            "Epoch 6/10\n",
            "98/98 [==============================] - 0s 4ms/step - loss: 0.2253 - accuracy: 0.9368 - val_loss: 0.3375 - val_accuracy: 0.9251\n",
            "Epoch 7/10\n",
            "98/98 [==============================] - 0s 4ms/step - loss: 0.1989 - accuracy: 0.9429 - val_loss: 0.3179 - val_accuracy: 0.9309\n",
            "Epoch 8/10\n",
            "98/98 [==============================] - 0s 4ms/step - loss: 0.1817 - accuracy: 0.9478 - val_loss: 0.3060 - val_accuracy: 0.9374\n",
            "Epoch 9/10\n",
            "98/98 [==============================] - 0s 5ms/step - loss: 0.1600 - accuracy: 0.9541 - val_loss: 0.2816 - val_accuracy: 0.9438\n",
            "Epoch 10/10\n",
            "98/98 [==============================] - 0s 4ms/step - loss: 0.1476 - accuracy: 0.9574 - val_loss: 0.2858 - val_accuracy: 0.9395\n"
          ],
          "name": "stdout"
        },
        {
          "output_type": "display_data",
          "data": {
            "text/html": [
              "<span style=\"color:#4527A0\"><h1 style=\"font-size:18px\">Trial complete</h1></span>"
            ],
            "text/plain": [
              "<IPython.core.display.HTML object>"
            ]
          },
          "metadata": {
            "tags": []
          }
        },
        {
          "output_type": "display_data",
          "data": {
            "text/html": [
              "<span style=\"color:#4527A0\"><h1 style=\"font-size:18px\">Trial summary</h1></span>"
            ],
            "text/plain": [
              "<IPython.core.display.HTML object>"
            ]
          },
          "metadata": {
            "tags": []
          }
        },
        {
          "output_type": "display_data",
          "data": {
            "text/html": [
              "<span style=\"color:cyan\"> |-Trial ID: 03e4727b31926a15a4eee696f0d93112</span>"
            ],
            "text/plain": [
              "<IPython.core.display.HTML object>"
            ]
          },
          "metadata": {
            "tags": []
          }
        },
        {
          "output_type": "display_data",
          "data": {
            "text/html": [
              "<span style=\"color:cyan\"> |-Score: 0.9370333353678385</span>"
            ],
            "text/plain": [
              "<IPython.core.display.HTML object>"
            ]
          },
          "metadata": {
            "tags": []
          }
        },
        {
          "output_type": "display_data",
          "data": {
            "text/html": [
              "<span style=\"color:cyan\"> |-Best step: 0</span>"
            ],
            "text/plain": [
              "<IPython.core.display.HTML object>"
            ]
          },
          "metadata": {
            "tags": []
          }
        },
        {
          "output_type": "display_data",
          "data": {
            "text/html": [
              "<span style=\"color:#7E57C2\"><h2 style=\"font-size:16px\">Hyperparameters:</h2></span>"
            ],
            "text/plain": [
              "<IPython.core.display.HTML object>"
            ]
          },
          "metadata": {
            "tags": []
          }
        },
        {
          "output_type": "display_data",
          "data": {
            "text/html": [
              "<span style=\"color:cyan\"> |-activation: relu</span>"
            ],
            "text/plain": [
              "<IPython.core.display.HTML object>"
            ]
          },
          "metadata": {
            "tags": []
          }
        },
        {
          "output_type": "display_data",
          "data": {
            "text/html": [
              "<span style=\"color:blue\"> |-learning_rate: 0.01</span>"
            ],
            "text/plain": [
              "<IPython.core.display.HTML object>"
            ]
          },
          "metadata": {
            "tags": []
          }
        },
        {
          "output_type": "display_data",
          "data": {
            "text/html": [
              "<span style=\"color:cyan\"> |-number_of_layers: 0</span>"
            ],
            "text/plain": [
              "<IPython.core.display.HTML object>"
            ]
          },
          "metadata": {
            "tags": []
          }
        },
        {
          "output_type": "display_data",
          "data": {
            "text/html": [
              "<span style=\"color:blue\"> |-units: 512</span>"
            ],
            "text/plain": [
              "<IPython.core.display.HTML object>"
            ]
          },
          "metadata": {
            "tags": []
          }
        },
        {
          "output_type": "stream",
          "text": [
            "Epoch 1/10\n",
            "98/98 [==============================] - 1s 5ms/step - loss: 21.6334 - accuracy: 0.6525 - val_loss: 6.0980 - val_accuracy: 0.8428\n",
            "Epoch 2/10\n",
            "98/98 [==============================] - 0s 5ms/step - loss: 4.8905 - accuracy: 0.8645 - val_loss: 3.9810 - val_accuracy: 0.8890\n",
            "Epoch 3/10\n",
            "98/98 [==============================] - 0s 5ms/step - loss: 3.1950 - accuracy: 0.8993 - val_loss: 3.0517 - val_accuracy: 0.9059\n",
            "Epoch 4/10\n",
            "98/98 [==============================] - 0s 4ms/step - loss: 2.3421 - accuracy: 0.9161 - val_loss: 2.5885 - val_accuracy: 0.9140\n",
            "Epoch 5/10\n",
            "98/98 [==============================] - 0s 5ms/step - loss: 1.7801 - accuracy: 0.9310 - val_loss: 2.2724 - val_accuracy: 0.9217\n",
            "Epoch 6/10\n",
            "98/98 [==============================] - 0s 4ms/step - loss: 1.4020 - accuracy: 0.9398 - val_loss: 2.0406 - val_accuracy: 0.9275\n",
            "Epoch 7/10\n",
            "98/98 [==============================] - 0s 4ms/step - loss: 1.1240 - accuracy: 0.9473 - val_loss: 1.9277 - val_accuracy: 0.9305\n",
            "Epoch 8/10\n",
            "98/98 [==============================] - 0s 4ms/step - loss: 0.9305 - accuracy: 0.9531 - val_loss: 1.7980 - val_accuracy: 0.9313\n",
            "Epoch 9/10\n",
            "98/98 [==============================] - 0s 4ms/step - loss: 0.7415 - accuracy: 0.9601 - val_loss: 1.6996 - val_accuracy: 0.9334\n",
            "Epoch 10/10\n",
            "98/98 [==============================] - 0s 4ms/step - loss: 0.6125 - accuracy: 0.9632 - val_loss: 1.6331 - val_accuracy: 0.9364\n",
            "Epoch 1/10\n",
            "98/98 [==============================] - 0s 5ms/step - loss: 26.6731 - accuracy: 0.6248 - val_loss: 7.4052 - val_accuracy: 0.8262\n",
            "Epoch 2/10\n",
            "98/98 [==============================] - 0s 4ms/step - loss: 5.8740 - accuracy: 0.8507 - val_loss: 4.5989 - val_accuracy: 0.8716\n",
            "Epoch 3/10\n",
            "98/98 [==============================] - 0s 4ms/step - loss: 3.8510 - accuracy: 0.8881 - val_loss: 3.4927 - val_accuracy: 0.8901\n",
            "Epoch 4/10\n",
            "98/98 [==============================] - 0s 4ms/step - loss: 2.8234 - accuracy: 0.9093 - val_loss: 2.8725 - val_accuracy: 0.9053\n",
            "Epoch 5/10\n",
            "98/98 [==============================] - 0s 4ms/step - loss: 2.1673 - accuracy: 0.9224 - val_loss: 2.5020 - val_accuracy: 0.9127\n",
            "Epoch 6/10\n",
            "98/98 [==============================] - 0s 4ms/step - loss: 1.7320 - accuracy: 0.9323 - val_loss: 2.1806 - val_accuracy: 0.9188\n",
            "Epoch 7/10\n",
            "98/98 [==============================] - 0s 4ms/step - loss: 1.4000 - accuracy: 0.9419 - val_loss: 2.0314 - val_accuracy: 0.9227\n",
            "Epoch 8/10\n",
            "98/98 [==============================] - 0s 4ms/step - loss: 1.1638 - accuracy: 0.9470 - val_loss: 1.8544 - val_accuracy: 0.9267\n",
            "Epoch 9/10\n",
            "98/98 [==============================] - 0s 4ms/step - loss: 0.9391 - accuracy: 0.9540 - val_loss: 1.8073 - val_accuracy: 0.9287\n",
            "Epoch 10/10\n",
            "98/98 [==============================] - 0s 4ms/step - loss: 0.7623 - accuracy: 0.9592 - val_loss: 1.6760 - val_accuracy: 0.9326\n",
            "Epoch 1/10\n",
            "98/98 [==============================] - 0s 5ms/step - loss: 22.5114 - accuracy: 0.6458 - val_loss: 6.5749 - val_accuracy: 0.8345\n",
            "Epoch 2/10\n",
            "98/98 [==============================] - 0s 4ms/step - loss: 5.0886 - accuracy: 0.8613 - val_loss: 4.3246 - val_accuracy: 0.8793\n",
            "Epoch 3/10\n",
            "98/98 [==============================] - 0s 4ms/step - loss: 3.4111 - accuracy: 0.8967 - val_loss: 3.3509 - val_accuracy: 0.8948\n",
            "Epoch 4/10\n",
            "98/98 [==============================] - 0s 4ms/step - loss: 2.5392 - accuracy: 0.9147 - val_loss: 2.8107 - val_accuracy: 0.9063\n",
            "Epoch 5/10\n",
            "98/98 [==============================] - 0s 4ms/step - loss: 1.9865 - accuracy: 0.9265 - val_loss: 2.5906 - val_accuracy: 0.9115\n",
            "Epoch 6/10\n",
            "98/98 [==============================] - 0s 4ms/step - loss: 1.5902 - accuracy: 0.9368 - val_loss: 2.2511 - val_accuracy: 0.9185\n",
            "Epoch 7/10\n",
            "98/98 [==============================] - 0s 4ms/step - loss: 1.2774 - accuracy: 0.9435 - val_loss: 2.1129 - val_accuracy: 0.9225\n",
            "Epoch 8/10\n",
            "98/98 [==============================] - 0s 4ms/step - loss: 1.0376 - accuracy: 0.9504 - val_loss: 1.9673 - val_accuracy: 0.9245\n",
            "Epoch 9/10\n",
            "98/98 [==============================] - 0s 4ms/step - loss: 0.8603 - accuracy: 0.9567 - val_loss: 1.8493 - val_accuracy: 0.9276\n",
            "Epoch 10/10\n",
            "98/98 [==============================] - 0s 4ms/step - loss: 0.7032 - accuracy: 0.9614 - val_loss: 1.8308 - val_accuracy: 0.9283\n"
          ],
          "name": "stdout"
        },
        {
          "output_type": "display_data",
          "data": {
            "text/html": [
              "<span style=\"color:#4527A0\"><h1 style=\"font-size:18px\">Trial complete</h1></span>"
            ],
            "text/plain": [
              "<IPython.core.display.HTML object>"
            ]
          },
          "metadata": {
            "tags": []
          }
        },
        {
          "output_type": "display_data",
          "data": {
            "text/html": [
              "<span style=\"color:#4527A0\"><h1 style=\"font-size:18px\">Trial summary</h1></span>"
            ],
            "text/plain": [
              "<IPython.core.display.HTML object>"
            ]
          },
          "metadata": {
            "tags": []
          }
        },
        {
          "output_type": "display_data",
          "data": {
            "text/html": [
              "<span style=\"color:cyan\"> |-Trial ID: 4bf0a8ada8dddd935df1840adb8bb1b6</span>"
            ],
            "text/plain": [
              "<IPython.core.display.HTML object>"
            ]
          },
          "metadata": {
            "tags": []
          }
        },
        {
          "output_type": "display_data",
          "data": {
            "text/html": [
              "<span style=\"color:cyan\"> |-Score: 0.9324333469072977</span>"
            ],
            "text/plain": [
              "<IPython.core.display.HTML object>"
            ]
          },
          "metadata": {
            "tags": []
          }
        },
        {
          "output_type": "display_data",
          "data": {
            "text/html": [
              "<span style=\"color:cyan\"> |-Best step: 0</span>"
            ],
            "text/plain": [
              "<IPython.core.display.HTML object>"
            ]
          },
          "metadata": {
            "tags": []
          }
        },
        {
          "output_type": "display_data",
          "data": {
            "text/html": [
              "<span style=\"color:#7E57C2\"><h2 style=\"font-size:16px\">Hyperparameters:</h2></span>"
            ],
            "text/plain": [
              "<IPython.core.display.HTML object>"
            ]
          },
          "metadata": {
            "tags": []
          }
        },
        {
          "output_type": "display_data",
          "data": {
            "text/html": [
              "<span style=\"color:cyan\"> |-activation: relu</span>"
            ],
            "text/plain": [
              "<IPython.core.display.HTML object>"
            ]
          },
          "metadata": {
            "tags": []
          }
        },
        {
          "output_type": "display_data",
          "data": {
            "text/html": [
              "<span style=\"color:blue\"> |-learning_rate: 0.0001</span>"
            ],
            "text/plain": [
              "<IPython.core.display.HTML object>"
            ]
          },
          "metadata": {
            "tags": []
          }
        },
        {
          "output_type": "display_data",
          "data": {
            "text/html": [
              "<span style=\"color:cyan\"> |-number_of_layers: 0</span>"
            ],
            "text/plain": [
              "<IPython.core.display.HTML object>"
            ]
          },
          "metadata": {
            "tags": []
          }
        },
        {
          "output_type": "display_data",
          "data": {
            "text/html": [
              "<span style=\"color:blue\"> |-units: 512</span>"
            ],
            "text/plain": [
              "<IPython.core.display.HTML object>"
            ]
          },
          "metadata": {
            "tags": []
          }
        },
        {
          "output_type": "stream",
          "text": [
            "Epoch 1/10\n",
            "98/98 [==============================] - 1s 6ms/step - loss: 19.3391 - accuracy: 0.1833 - val_loss: 5.0580 - val_accuracy: 0.3267\n",
            "Epoch 2/10\n",
            "98/98 [==============================] - 0s 4ms/step - loss: 3.4431 - accuracy: 0.3832 - val_loss: 2.3383 - val_accuracy: 0.4632\n",
            "Epoch 3/10\n",
            "98/98 [==============================] - 0s 5ms/step - loss: 1.9898 - accuracy: 0.4992 - val_loss: 1.6596 - val_accuracy: 0.5560\n",
            "Epoch 4/10\n",
            "98/98 [==============================] - 0s 5ms/step - loss: 1.4978 - accuracy: 0.5848 - val_loss: 1.3275 - val_accuracy: 0.6247\n",
            "Epoch 5/10\n",
            "98/98 [==============================] - 0s 4ms/step - loss: 1.2216 - accuracy: 0.6478 - val_loss: 1.1197 - val_accuracy: 0.6696\n",
            "Epoch 6/10\n",
            "98/98 [==============================] - 0s 5ms/step - loss: 1.0402 - accuracy: 0.6921 - val_loss: 0.9800 - val_accuracy: 0.7087\n",
            "Epoch 7/10\n",
            "98/98 [==============================] - 0s 5ms/step - loss: 0.9129 - accuracy: 0.7283 - val_loss: 0.8736 - val_accuracy: 0.7424\n",
            "Epoch 8/10\n",
            "98/98 [==============================] - 0s 5ms/step - loss: 0.8171 - accuracy: 0.7550 - val_loss: 0.7980 - val_accuracy: 0.7621\n",
            "Epoch 9/10\n",
            "98/98 [==============================] - 0s 5ms/step - loss: 0.7437 - accuracy: 0.7759 - val_loss: 0.7369 - val_accuracy: 0.7817\n",
            "Epoch 10/10\n",
            "98/98 [==============================] - 0s 5ms/step - loss: 0.6845 - accuracy: 0.7941 - val_loss: 0.6875 - val_accuracy: 0.7986\n",
            "Epoch 1/10\n",
            "98/98 [==============================] - 1s 5ms/step - loss: 8.0629 - accuracy: 0.1515 - val_loss: 2.9185 - val_accuracy: 0.2375\n",
            "Epoch 2/10\n",
            "98/98 [==============================] - 0s 4ms/step - loss: 2.2811 - accuracy: 0.3352 - val_loss: 1.8533 - val_accuracy: 0.4367\n",
            "Epoch 3/10\n",
            "98/98 [==============================] - 0s 4ms/step - loss: 1.6660 - accuracy: 0.4842 - val_loss: 1.4715 - val_accuracy: 0.5436\n",
            "Epoch 4/10\n",
            "98/98 [==============================] - 0s 4ms/step - loss: 1.3626 - accuracy: 0.5790 - val_loss: 1.2368 - val_accuracy: 0.6171\n",
            "Epoch 5/10\n",
            "98/98 [==============================] - 0s 5ms/step - loss: 1.1559 - accuracy: 0.6457 - val_loss: 1.0658 - val_accuracy: 0.6702\n",
            "Epoch 6/10\n",
            "98/98 [==============================] - 0s 4ms/step - loss: 1.0004 - accuracy: 0.6935 - val_loss: 0.9301 - val_accuracy: 0.7155\n",
            "Epoch 7/10\n",
            "98/98 [==============================] - 0s 5ms/step - loss: 0.8766 - accuracy: 0.7330 - val_loss: 0.8246 - val_accuracy: 0.7546\n",
            "Epoch 8/10\n",
            "98/98 [==============================] - 0s 5ms/step - loss: 0.7781 - accuracy: 0.7611 - val_loss: 0.7429 - val_accuracy: 0.7809\n",
            "Epoch 9/10\n",
            "98/98 [==============================] - 0s 5ms/step - loss: 0.6983 - accuracy: 0.7862 - val_loss: 0.6748 - val_accuracy: 0.8021\n",
            "Epoch 10/10\n",
            "98/98 [==============================] - 0s 5ms/step - loss: 0.6336 - accuracy: 0.8065 - val_loss: 0.6187 - val_accuracy: 0.8213\n",
            "Epoch 1/10\n",
            "98/98 [==============================] - 1s 6ms/step - loss: 7.1807 - accuracy: 0.2142 - val_loss: 3.0577 - val_accuracy: 0.3316\n",
            "Epoch 2/10\n",
            "98/98 [==============================] - 0s 5ms/step - loss: 2.4027 - accuracy: 0.4083 - val_loss: 1.8643 - val_accuracy: 0.4880\n",
            "Epoch 3/10\n",
            "98/98 [==============================] - 0s 5ms/step - loss: 1.6324 - accuracy: 0.5358 - val_loss: 1.3976 - val_accuracy: 0.5842\n",
            "Epoch 4/10\n",
            "98/98 [==============================] - 0s 5ms/step - loss: 1.2681 - accuracy: 0.6204 - val_loss: 1.1346 - val_accuracy: 0.6582\n",
            "Epoch 5/10\n",
            "98/98 [==============================] - 0s 5ms/step - loss: 1.0430 - accuracy: 0.6841 - val_loss: 0.9597 - val_accuracy: 0.7096\n",
            "Epoch 6/10\n",
            "98/98 [==============================] - 0s 4ms/step - loss: 0.8905 - accuracy: 0.7272 - val_loss: 0.8417 - val_accuracy: 0.7471\n",
            "Epoch 7/10\n",
            "98/98 [==============================] - 0s 4ms/step - loss: 0.7814 - accuracy: 0.7615 - val_loss: 0.7545 - val_accuracy: 0.7739\n",
            "Epoch 8/10\n",
            "98/98 [==============================] - 0s 4ms/step - loss: 0.6991 - accuracy: 0.7872 - val_loss: 0.6867 - val_accuracy: 0.7960\n",
            "Epoch 9/10\n",
            "98/98 [==============================] - 0s 4ms/step - loss: 0.6346 - accuracy: 0.8077 - val_loss: 0.6308 - val_accuracy: 0.8141\n",
            "Epoch 10/10\n",
            "98/98 [==============================] - 0s 5ms/step - loss: 0.5825 - accuracy: 0.8234 - val_loss: 0.5852 - val_accuracy: 0.8280\n"
          ],
          "name": "stdout"
        },
        {
          "output_type": "display_data",
          "data": {
            "text/html": [
              "<span style=\"color:#4527A0\"><h1 style=\"font-size:18px\">Trial complete</h1></span>"
            ],
            "text/plain": [
              "<IPython.core.display.HTML object>"
            ]
          },
          "metadata": {
            "tags": []
          }
        },
        {
          "output_type": "display_data",
          "data": {
            "text/html": [
              "<span style=\"color:#4527A0\"><h1 style=\"font-size:18px\">Trial summary</h1></span>"
            ],
            "text/plain": [
              "<IPython.core.display.HTML object>"
            ]
          },
          "metadata": {
            "tags": []
          }
        },
        {
          "output_type": "display_data",
          "data": {
            "text/html": [
              "<span style=\"color:cyan\"> |-Trial ID: 9c06b9884f60b273ddc733752c4e7776</span>"
            ],
            "text/plain": [
              "<IPython.core.display.HTML object>"
            ]
          },
          "metadata": {
            "tags": []
          }
        },
        {
          "output_type": "display_data",
          "data": {
            "text/html": [
              "<span style=\"color:cyan\"> |-Score: 0.8159666856129965</span>"
            ],
            "text/plain": [
              "<IPython.core.display.HTML object>"
            ]
          },
          "metadata": {
            "tags": []
          }
        },
        {
          "output_type": "display_data",
          "data": {
            "text/html": [
              "<span style=\"color:cyan\"> |-Best step: 0</span>"
            ],
            "text/plain": [
              "<IPython.core.display.HTML object>"
            ]
          },
          "metadata": {
            "tags": []
          }
        },
        {
          "output_type": "display_data",
          "data": {
            "text/html": [
              "<span style=\"color:#7E57C2\"><h2 style=\"font-size:16px\">Hyperparameters:</h2></span>"
            ],
            "text/plain": [
              "<IPython.core.display.HTML object>"
            ]
          },
          "metadata": {
            "tags": []
          }
        },
        {
          "output_type": "display_data",
          "data": {
            "text/html": [
              "<span style=\"color:cyan\"> |-activation: relu</span>"
            ],
            "text/plain": [
              "<IPython.core.display.HTML object>"
            ]
          },
          "metadata": {
            "tags": []
          }
        },
        {
          "output_type": "display_data",
          "data": {
            "text/html": [
              "<span style=\"color:blue\"> |-learning_rate: 0.0001</span>"
            ],
            "text/plain": [
              "<IPython.core.display.HTML object>"
            ]
          },
          "metadata": {
            "tags": []
          }
        },
        {
          "output_type": "display_data",
          "data": {
            "text/html": [
              "<span style=\"color:cyan\"> |-number_of_layers: 4</span>"
            ],
            "text/plain": [
              "<IPython.core.display.HTML object>"
            ]
          },
          "metadata": {
            "tags": []
          }
        },
        {
          "output_type": "display_data",
          "data": {
            "text/html": [
              "<span style=\"color:blue\"> |-units: 32</span>"
            ],
            "text/plain": [
              "<IPython.core.display.HTML object>"
            ]
          },
          "metadata": {
            "tags": []
          }
        },
        {
          "output_type": "stream",
          "text": [
            "Epoch 1/10\n",
            "98/98 [==============================] - 0s 5ms/step - loss: 5.4925 - accuracy: 0.2090 - val_loss: 2.0030 - val_accuracy: 0.2271\n",
            "Epoch 2/10\n",
            "98/98 [==============================] - 0s 4ms/step - loss: 1.8744 - accuracy: 0.2820 - val_loss: 1.7628 - val_accuracy: 0.3291\n",
            "Epoch 3/10\n",
            "98/98 [==============================] - 0s 4ms/step - loss: 1.6769 - accuracy: 0.3488 - val_loss: 1.7081 - val_accuracy: 0.3430\n",
            "Epoch 4/10\n",
            "98/98 [==============================] - 0s 4ms/step - loss: 1.6405 - accuracy: 0.3559 - val_loss: 1.5993 - val_accuracy: 0.3835\n",
            "Epoch 5/10\n",
            "98/98 [==============================] - 0s 4ms/step - loss: 1.5680 - accuracy: 0.3898 - val_loss: 1.5255 - val_accuracy: 0.4080\n",
            "Epoch 6/10\n",
            "98/98 [==============================] - 0s 4ms/step - loss: 1.4805 - accuracy: 0.4178 - val_loss: 1.3941 - val_accuracy: 0.4560\n",
            "Epoch 7/10\n",
            "98/98 [==============================] - 0s 4ms/step - loss: 1.3829 - accuracy: 0.4487 - val_loss: 1.3111 - val_accuracy: 0.4624\n",
            "Epoch 8/10\n",
            "98/98 [==============================] - 0s 4ms/step - loss: 1.2743 - accuracy: 0.4728 - val_loss: 1.3328 - val_accuracy: 0.4464\n",
            "Epoch 1/10\n",
            "98/98 [==============================] - 0s 5ms/step - loss: 18.2160 - accuracy: 0.2574 - val_loss: 1.8468 - val_accuracy: 0.2940\n",
            "Epoch 2/10\n",
            "98/98 [==============================] - 0s 4ms/step - loss: 1.7413 - accuracy: 0.3223 - val_loss: 1.6569 - val_accuracy: 0.3423\n",
            "Epoch 3/10\n",
            "98/98 [==============================] - 0s 4ms/step - loss: 1.6036 - accuracy: 0.3550 - val_loss: 1.5472 - val_accuracy: 0.3688\n",
            "Epoch 4/10\n",
            "98/98 [==============================] - 0s 4ms/step - loss: 1.5005 - accuracy: 0.3857 - val_loss: 1.4901 - val_accuracy: 0.4038\n",
            "Epoch 5/10\n",
            "98/98 [==============================] - 0s 4ms/step - loss: 1.4159 - accuracy: 0.4153 - val_loss: 1.4276 - val_accuracy: 0.4476\n",
            "Epoch 6/10\n",
            "98/98 [==============================] - 0s 4ms/step - loss: 1.3494 - accuracy: 0.4497 - val_loss: 1.3544 - val_accuracy: 0.4950\n",
            "Epoch 7/10\n",
            "98/98 [==============================] - 0s 4ms/step - loss: 1.2770 - accuracy: 0.4890 - val_loss: 1.3126 - val_accuracy: 0.4926\n",
            "Epoch 8/10\n",
            "98/98 [==============================] - 0s 4ms/step - loss: 1.1848 - accuracy: 0.5372 - val_loss: 1.2018 - val_accuracy: 0.5551\n",
            "Epoch 9/10\n",
            "98/98 [==============================] - 0s 4ms/step - loss: 1.1056 - accuracy: 0.5729 - val_loss: 1.1926 - val_accuracy: 0.5748\n",
            "Epoch 10/10\n",
            "98/98 [==============================] - 0s 4ms/step - loss: 1.0557 - accuracy: 0.5965 - val_loss: 1.0757 - val_accuracy: 0.6203\n",
            "Epoch 1/10\n",
            "98/98 [==============================] - 0s 5ms/step - loss: 7.0704 - accuracy: 0.1761 - val_loss: 2.0988 - val_accuracy: 0.2018\n",
            "Epoch 2/10\n",
            "98/98 [==============================] - 0s 4ms/step - loss: 2.0048 - accuracy: 0.2406 - val_loss: 1.8549 - val_accuracy: 0.3226\n",
            "Epoch 3/10\n",
            "98/98 [==============================] - 0s 4ms/step - loss: 1.6487 - accuracy: 0.3883 - val_loss: 1.4983 - val_accuracy: 0.4511\n",
            "Epoch 4/10\n",
            "98/98 [==============================] - 0s 4ms/step - loss: 1.4045 - accuracy: 0.4668 - val_loss: 1.3174 - val_accuracy: 0.5196\n",
            "Epoch 5/10\n",
            "98/98 [==============================] - 0s 4ms/step - loss: 1.2086 - accuracy: 0.5504 - val_loss: 1.1678 - val_accuracy: 0.5359\n",
            "Epoch 6/10\n",
            "98/98 [==============================] - 0s 4ms/step - loss: 1.0541 - accuracy: 0.5997 - val_loss: 1.1322 - val_accuracy: 0.5981\n",
            "Epoch 7/10\n",
            "98/98 [==============================] - 0s 4ms/step - loss: 1.0026 - accuracy: 0.6299 - val_loss: 0.9311 - val_accuracy: 0.6803\n",
            "Epoch 8/10\n",
            "98/98 [==============================] - 0s 4ms/step - loss: 0.8913 - accuracy: 0.6863 - val_loss: 0.8080 - val_accuracy: 0.7219\n",
            "Epoch 9/10\n",
            "98/98 [==============================] - 0s 4ms/step - loss: 0.7552 - accuracy: 0.7475 - val_loss: 0.7561 - val_accuracy: 0.7690\n",
            "Epoch 10/10\n",
            "98/98 [==============================] - 0s 4ms/step - loss: 0.6944 - accuracy: 0.7763 - val_loss: 0.7253 - val_accuracy: 0.7825\n"
          ],
          "name": "stdout"
        },
        {
          "output_type": "display_data",
          "data": {
            "text/html": [
              "<span style=\"color:#4527A0\"><h1 style=\"font-size:18px\">Trial complete</h1></span>"
            ],
            "text/plain": [
              "<IPython.core.display.HTML object>"
            ]
          },
          "metadata": {
            "tags": []
          }
        },
        {
          "output_type": "display_data",
          "data": {
            "text/html": [
              "<span style=\"color:#4527A0\"><h1 style=\"font-size:18px\">Trial summary</h1></span>"
            ],
            "text/plain": [
              "<IPython.core.display.HTML object>"
            ]
          },
          "metadata": {
            "tags": []
          }
        },
        {
          "output_type": "display_data",
          "data": {
            "text/html": [
              "<span style=\"color:cyan\"> |-Trial ID: c592df5efe9383fd7f8d504f4e2e0b9d</span>"
            ],
            "text/plain": [
              "<IPython.core.display.HTML object>"
            ]
          },
          "metadata": {
            "tags": []
          }
        },
        {
          "output_type": "display_data",
          "data": {
            "text/html": [
              "<span style=\"color:cyan\"> |-Score: 0.6217333376407623</span>"
            ],
            "text/plain": [
              "<IPython.core.display.HTML object>"
            ]
          },
          "metadata": {
            "tags": []
          }
        },
        {
          "output_type": "display_data",
          "data": {
            "text/html": [
              "<span style=\"color:cyan\"> |-Best step: 0</span>"
            ],
            "text/plain": [
              "<IPython.core.display.HTML object>"
            ]
          },
          "metadata": {
            "tags": []
          }
        },
        {
          "output_type": "display_data",
          "data": {
            "text/html": [
              "<span style=\"color:#7E57C2\"><h2 style=\"font-size:16px\">Hyperparameters:</h2></span>"
            ],
            "text/plain": [
              "<IPython.core.display.HTML object>"
            ]
          },
          "metadata": {
            "tags": []
          }
        },
        {
          "output_type": "display_data",
          "data": {
            "text/html": [
              "<span style=\"color:cyan\"> |-activation: tanh</span>"
            ],
            "text/plain": [
              "<IPython.core.display.HTML object>"
            ]
          },
          "metadata": {
            "tags": []
          }
        },
        {
          "output_type": "display_data",
          "data": {
            "text/html": [
              "<span style=\"color:blue\"> |-learning_rate: 0.01</span>"
            ],
            "text/plain": [
              "<IPython.core.display.HTML object>"
            ]
          },
          "metadata": {
            "tags": []
          }
        },
        {
          "output_type": "display_data",
          "data": {
            "text/html": [
              "<span style=\"color:cyan\"> |-number_of_layers: 0</span>"
            ],
            "text/plain": [
              "<IPython.core.display.HTML object>"
            ]
          },
          "metadata": {
            "tags": []
          }
        },
        {
          "output_type": "display_data",
          "data": {
            "text/html": [
              "<span style=\"color:blue\"> |-units: 32</span>"
            ],
            "text/plain": [
              "<IPython.core.display.HTML object>"
            ]
          },
          "metadata": {
            "tags": []
          }
        },
        {
          "output_type": "stream",
          "text": [
            "Epoch 1/10\n",
            "98/98 [==============================] - 1s 6ms/step - loss: 1.7098 - accuracy: 0.4945 - val_loss: 1.1852 - val_accuracy: 0.7199\n",
            "Epoch 2/10\n",
            "98/98 [==============================] - 0s 4ms/step - loss: 0.9398 - accuracy: 0.7786 - val_loss: 0.7354 - val_accuracy: 0.8292\n",
            "Epoch 3/10\n",
            "98/98 [==============================] - 0s 5ms/step - loss: 0.6296 - accuracy: 0.8517 - val_loss: 0.5372 - val_accuracy: 0.8716\n",
            "Epoch 4/10\n",
            "98/98 [==============================] - 0s 5ms/step - loss: 0.4850 - accuracy: 0.8793 - val_loss: 0.4340 - val_accuracy: 0.8889\n",
            "Epoch 5/10\n",
            "98/98 [==============================] - 0s 5ms/step - loss: 0.4002 - accuracy: 0.8961 - val_loss: 0.3761 - val_accuracy: 0.8989\n",
            "Epoch 6/10\n",
            "98/98 [==============================] - 0s 5ms/step - loss: 0.3480 - accuracy: 0.9079 - val_loss: 0.3359 - val_accuracy: 0.9077\n",
            "Epoch 7/10\n",
            "98/98 [==============================] - 0s 5ms/step - loss: 0.3131 - accuracy: 0.9145 - val_loss: 0.3090 - val_accuracy: 0.9128\n",
            "Epoch 8/10\n",
            "98/98 [==============================] - 0s 5ms/step - loss: 0.2820 - accuracy: 0.9218 - val_loss: 0.2837 - val_accuracy: 0.9224\n",
            "Epoch 9/10\n",
            "98/98 [==============================] - 0s 4ms/step - loss: 0.2597 - accuracy: 0.9268 - val_loss: 0.2650 - val_accuracy: 0.9213\n",
            "Epoch 10/10\n",
            "98/98 [==============================] - 0s 5ms/step - loss: 0.2456 - accuracy: 0.9308 - val_loss: 0.2520 - val_accuracy: 0.9264\n",
            "Epoch 1/10\n",
            "98/98 [==============================] - 0s 5ms/step - loss: 1.6475 - accuracy: 0.5076 - val_loss: 1.1528 - val_accuracy: 0.7216\n",
            "Epoch 2/10\n",
            "98/98 [==============================] - 0s 4ms/step - loss: 0.9381 - accuracy: 0.7835 - val_loss: 0.7517 - val_accuracy: 0.8296\n",
            "Epoch 3/10\n",
            "98/98 [==============================] - 0s 5ms/step - loss: 0.6495 - accuracy: 0.8504 - val_loss: 0.5564 - val_accuracy: 0.8677\n",
            "Epoch 4/10\n",
            "98/98 [==============================] - 0s 4ms/step - loss: 0.4999 - accuracy: 0.8798 - val_loss: 0.4509 - val_accuracy: 0.8850\n",
            "Epoch 5/10\n",
            "98/98 [==============================] - 0s 4ms/step - loss: 0.4110 - accuracy: 0.8965 - val_loss: 0.3881 - val_accuracy: 0.8961\n",
            "Epoch 6/10\n",
            "98/98 [==============================] - 0s 4ms/step - loss: 0.3571 - accuracy: 0.9075 - val_loss: 0.3397 - val_accuracy: 0.9093\n",
            "Epoch 7/10\n",
            "98/98 [==============================] - 0s 5ms/step - loss: 0.3194 - accuracy: 0.9152 - val_loss: 0.3135 - val_accuracy: 0.9138\n",
            "Epoch 8/10\n",
            "98/98 [==============================] - 0s 4ms/step - loss: 0.2884 - accuracy: 0.9225 - val_loss: 0.2875 - val_accuracy: 0.9199\n",
            "Epoch 9/10\n",
            "98/98 [==============================] - 0s 5ms/step - loss: 0.2666 - accuracy: 0.9269 - val_loss: 0.2727 - val_accuracy: 0.9215\n",
            "Epoch 10/10\n",
            "98/98 [==============================] - 0s 4ms/step - loss: 0.2480 - accuracy: 0.9302 - val_loss: 0.2567 - val_accuracy: 0.9261\n",
            "Epoch 1/10\n",
            "98/98 [==============================] - 1s 5ms/step - loss: 1.6408 - accuracy: 0.5104 - val_loss: 1.1146 - val_accuracy: 0.7369\n",
            "Epoch 2/10\n",
            "98/98 [==============================] - 0s 5ms/step - loss: 0.9044 - accuracy: 0.7868 - val_loss: 0.7207 - val_accuracy: 0.8312\n",
            "Epoch 3/10\n",
            "98/98 [==============================] - 0s 4ms/step - loss: 0.6265 - accuracy: 0.8521 - val_loss: 0.5359 - val_accuracy: 0.8709\n",
            "Epoch 4/10\n",
            "98/98 [==============================] - 0s 5ms/step - loss: 0.4866 - accuracy: 0.8815 - val_loss: 0.4382 - val_accuracy: 0.8881\n",
            "Epoch 5/10\n",
            "98/98 [==============================] - 0s 4ms/step - loss: 0.4076 - accuracy: 0.8952 - val_loss: 0.3779 - val_accuracy: 0.9019\n",
            "Epoch 6/10\n",
            "98/98 [==============================] - 0s 5ms/step - loss: 0.3509 - accuracy: 0.9090 - val_loss: 0.3392 - val_accuracy: 0.9079\n",
            "Epoch 7/10\n",
            "98/98 [==============================] - 0s 4ms/step - loss: 0.3140 - accuracy: 0.9164 - val_loss: 0.3042 - val_accuracy: 0.9195\n",
            "Epoch 8/10\n",
            "98/98 [==============================] - 0s 4ms/step - loss: 0.2887 - accuracy: 0.9222 - val_loss: 0.2914 - val_accuracy: 0.9204\n",
            "Epoch 9/10\n",
            "98/98 [==============================] - 0s 4ms/step - loss: 0.2651 - accuracy: 0.9277 - val_loss: 0.2705 - val_accuracy: 0.9226\n",
            "Epoch 10/10\n",
            "98/98 [==============================] - 0s 5ms/step - loss: 0.2465 - accuracy: 0.9319 - val_loss: 0.2561 - val_accuracy: 0.9282\n"
          ],
          "name": "stdout"
        },
        {
          "output_type": "display_data",
          "data": {
            "text/html": [
              "<span style=\"color:#4527A0\"><h1 style=\"font-size:18px\">Trial complete</h1></span>"
            ],
            "text/plain": [
              "<IPython.core.display.HTML object>"
            ]
          },
          "metadata": {
            "tags": []
          }
        },
        {
          "output_type": "display_data",
          "data": {
            "text/html": [
              "<span style=\"color:#4527A0\"><h1 style=\"font-size:18px\">Trial summary</h1></span>"
            ],
            "text/plain": [
              "<IPython.core.display.HTML object>"
            ]
          },
          "metadata": {
            "tags": []
          }
        },
        {
          "output_type": "display_data",
          "data": {
            "text/html": [
              "<span style=\"color:cyan\"> |-Trial ID: 2ce24f0139256c0841be107e4290e300</span>"
            ],
            "text/plain": [
              "<IPython.core.display.HTML object>"
            ]
          },
          "metadata": {
            "tags": []
          }
        },
        {
          "output_type": "display_data",
          "data": {
            "text/html": [
              "<span style=\"color:cyan\"> |-Score: 0.9269000093142191</span>"
            ],
            "text/plain": [
              "<IPython.core.display.HTML object>"
            ]
          },
          "metadata": {
            "tags": []
          }
        },
        {
          "output_type": "display_data",
          "data": {
            "text/html": [
              "<span style=\"color:cyan\"> |-Best step: 0</span>"
            ],
            "text/plain": [
              "<IPython.core.display.HTML object>"
            ]
          },
          "metadata": {
            "tags": []
          }
        },
        {
          "output_type": "display_data",
          "data": {
            "text/html": [
              "<span style=\"color:#7E57C2\"><h2 style=\"font-size:16px\">Hyperparameters:</h2></span>"
            ],
            "text/plain": [
              "<IPython.core.display.HTML object>"
            ]
          },
          "metadata": {
            "tags": []
          }
        },
        {
          "output_type": "display_data",
          "data": {
            "text/html": [
              "<span style=\"color:cyan\"> |-activation: tanh</span>"
            ],
            "text/plain": [
              "<IPython.core.display.HTML object>"
            ]
          },
          "metadata": {
            "tags": []
          }
        },
        {
          "output_type": "display_data",
          "data": {
            "text/html": [
              "<span style=\"color:blue\"> |-learning_rate: 0.0001</span>"
            ],
            "text/plain": [
              "<IPython.core.display.HTML object>"
            ]
          },
          "metadata": {
            "tags": []
          }
        },
        {
          "output_type": "display_data",
          "data": {
            "text/html": [
              "<span style=\"color:cyan\"> |-number_of_layers: 3</span>"
            ],
            "text/plain": [
              "<IPython.core.display.HTML object>"
            ]
          },
          "metadata": {
            "tags": []
          }
        },
        {
          "output_type": "display_data",
          "data": {
            "text/html": [
              "<span style=\"color:blue\"> |-units: 512</span>"
            ],
            "text/plain": [
              "<IPython.core.display.HTML object>"
            ]
          },
          "metadata": {
            "tags": []
          }
        },
        {
          "output_type": "stream",
          "text": [
            "Epoch 1/10\n",
            "98/98 [==============================] - 1s 5ms/step - loss: 33.2650 - accuracy: 0.7565 - val_loss: 1.1025 - val_accuracy: 0.8032\n",
            "Epoch 2/10\n",
            "98/98 [==============================] - 0s 4ms/step - loss: 0.8433 - accuracy: 0.8267 - val_loss: 0.7873 - val_accuracy: 0.8502\n",
            "Epoch 3/10\n",
            "98/98 [==============================] - 0s 4ms/step - loss: 0.5894 - accuracy: 0.8707 - val_loss: 0.6549 - val_accuracy: 0.8852\n",
            "Epoch 4/10\n",
            "98/98 [==============================] - 0s 4ms/step - loss: 0.4581 - accuracy: 0.8942 - val_loss: 0.5945 - val_accuracy: 0.8958\n",
            "Epoch 5/10\n",
            "98/98 [==============================] - 0s 4ms/step - loss: 0.3725 - accuracy: 0.9093 - val_loss: 0.5456 - val_accuracy: 0.9109\n",
            "Epoch 6/10\n",
            "98/98 [==============================] - 0s 4ms/step - loss: 0.3303 - accuracy: 0.9181 - val_loss: 0.5180 - val_accuracy: 0.9062\n",
            "Epoch 7/10\n",
            "98/98 [==============================] - 0s 4ms/step - loss: 0.2863 - accuracy: 0.9278 - val_loss: 0.4858 - val_accuracy: 0.9132\n",
            "Epoch 8/10\n",
            "98/98 [==============================] - 0s 4ms/step - loss: 0.2644 - accuracy: 0.9321 - val_loss: 0.4542 - val_accuracy: 0.9243\n",
            "Epoch 9/10\n",
            "98/98 [==============================] - 0s 4ms/step - loss: 0.2428 - accuracy: 0.9364 - val_loss: 0.4576 - val_accuracy: 0.9200\n",
            "Epoch 1/10\n",
            "98/98 [==============================] - 0s 5ms/step - loss: 31.8868 - accuracy: 0.6213 - val_loss: 1.0811 - val_accuracy: 0.7090\n",
            "Epoch 2/10\n",
            "98/98 [==============================] - 0s 5ms/step - loss: 0.8793 - accuracy: 0.7620 - val_loss: 0.8113 - val_accuracy: 0.8206\n",
            "Epoch 3/10\n",
            "98/98 [==============================] - 0s 4ms/step - loss: 0.6201 - accuracy: 0.8394 - val_loss: 0.6288 - val_accuracy: 0.8617\n",
            "Epoch 4/10\n",
            "98/98 [==============================] - 0s 4ms/step - loss: 0.4792 - accuracy: 0.8761 - val_loss: 0.5661 - val_accuracy: 0.8749\n",
            "Epoch 5/10\n",
            "98/98 [==============================] - 0s 4ms/step - loss: 0.3934 - accuracy: 0.8959 - val_loss: 0.4546 - val_accuracy: 0.9058\n",
            "Epoch 6/10\n",
            "98/98 [==============================] - 0s 4ms/step - loss: 0.3384 - accuracy: 0.9114 - val_loss: 0.4352 - val_accuracy: 0.9110\n",
            "Epoch 7/10\n",
            "98/98 [==============================] - 0s 4ms/step - loss: 0.3060 - accuracy: 0.9183 - val_loss: 0.4107 - val_accuracy: 0.9169\n",
            "Epoch 8/10\n",
            "98/98 [==============================] - 0s 4ms/step - loss: 0.2712 - accuracy: 0.9266 - val_loss: 0.4083 - val_accuracy: 0.9123\n",
            "Epoch 9/10\n",
            "98/98 [==============================] - 0s 4ms/step - loss: 0.2546 - accuracy: 0.9319 - val_loss: 0.3751 - val_accuracy: 0.9204\n",
            "Epoch 10/10\n",
            "98/98 [==============================] - 0s 4ms/step - loss: 0.2429 - accuracy: 0.9350 - val_loss: 0.3641 - val_accuracy: 0.9265\n",
            "Epoch 1/10\n",
            "98/98 [==============================] - 0s 5ms/step - loss: 20.3629 - accuracy: 0.6609 - val_loss: 0.9393 - val_accuracy: 0.7226\n",
            "Epoch 2/10\n",
            "98/98 [==============================] - 0s 4ms/step - loss: 0.7355 - accuracy: 0.7788 - val_loss: 0.6772 - val_accuracy: 0.7957\n",
            "Epoch 3/10\n",
            "98/98 [==============================] - 0s 4ms/step - loss: 0.5121 - accuracy: 0.8620 - val_loss: 0.5215 - val_accuracy: 0.8717\n",
            "Epoch 4/10\n",
            "98/98 [==============================] - 0s 4ms/step - loss: 0.4078 - accuracy: 0.8894 - val_loss: 0.4460 - val_accuracy: 0.8944\n",
            "Epoch 5/10\n",
            "98/98 [==============================] - 0s 4ms/step - loss: 0.3502 - accuracy: 0.9043 - val_loss: 0.4254 - val_accuracy: 0.9004\n",
            "Epoch 6/10\n",
            "98/98 [==============================] - 0s 4ms/step - loss: 0.3044 - accuracy: 0.9165 - val_loss: 0.3764 - val_accuracy: 0.9106\n",
            "Epoch 7/10\n",
            "98/98 [==============================] - 0s 4ms/step - loss: 0.2783 - accuracy: 0.9237 - val_loss: 0.3608 - val_accuracy: 0.9215\n",
            "Epoch 8/10\n",
            "98/98 [==============================] - 0s 4ms/step - loss: 0.2618 - accuracy: 0.9279 - val_loss: 0.3868 - val_accuracy: 0.9170\n"
          ],
          "name": "stdout"
        },
        {
          "output_type": "display_data",
          "data": {
            "text/html": [
              "<span style=\"color:#4527A0\"><h1 style=\"font-size:18px\">Trial complete</h1></span>"
            ],
            "text/plain": [
              "<IPython.core.display.HTML object>"
            ]
          },
          "metadata": {
            "tags": []
          }
        },
        {
          "output_type": "display_data",
          "data": {
            "text/html": [
              "<span style=\"color:#4527A0\"><h1 style=\"font-size:18px\">Trial summary</h1></span>"
            ],
            "text/plain": [
              "<IPython.core.display.HTML object>"
            ]
          },
          "metadata": {
            "tags": []
          }
        },
        {
          "output_type": "display_data",
          "data": {
            "text/html": [
              "<span style=\"color:cyan\"> |-Trial ID: d48afc2274286a45b12e2ee59f444955</span>"
            ],
            "text/plain": [
              "<IPython.core.display.HTML object>"
            ]
          },
          "metadata": {
            "tags": []
          }
        },
        {
          "output_type": "display_data",
          "data": {
            "text/html": [
              "<span style=\"color:cyan\"> |-Score: 0.9241000215212504</span>"
            ],
            "text/plain": [
              "<IPython.core.display.HTML object>"
            ]
          },
          "metadata": {
            "tags": []
          }
        },
        {
          "output_type": "display_data",
          "data": {
            "text/html": [
              "<span style=\"color:cyan\"> |-Best step: 0</span>"
            ],
            "text/plain": [
              "<IPython.core.display.HTML object>"
            ]
          },
          "metadata": {
            "tags": []
          }
        },
        {
          "output_type": "display_data",
          "data": {
            "text/html": [
              "<span style=\"color:#7E57C2\"><h2 style=\"font-size:16px\">Hyperparameters:</h2></span>"
            ],
            "text/plain": [
              "<IPython.core.display.HTML object>"
            ]
          },
          "metadata": {
            "tags": []
          }
        },
        {
          "output_type": "display_data",
          "data": {
            "text/html": [
              "<span style=\"color:cyan\"> |-activation: relu</span>"
            ],
            "text/plain": [
              "<IPython.core.display.HTML object>"
            ]
          },
          "metadata": {
            "tags": []
          }
        },
        {
          "output_type": "display_data",
          "data": {
            "text/html": [
              "<span style=\"color:blue\"> |-learning_rate: 0.01</span>"
            ],
            "text/plain": [
              "<IPython.core.display.HTML object>"
            ]
          },
          "metadata": {
            "tags": []
          }
        },
        {
          "output_type": "display_data",
          "data": {
            "text/html": [
              "<span style=\"color:cyan\"> |-number_of_layers: 0</span>"
            ],
            "text/plain": [
              "<IPython.core.display.HTML object>"
            ]
          },
          "metadata": {
            "tags": []
          }
        },
        {
          "output_type": "display_data",
          "data": {
            "text/html": [
              "<span style=\"color:blue\"> |-units: 192</span>"
            ],
            "text/plain": [
              "<IPython.core.display.HTML object>"
            ]
          },
          "metadata": {
            "tags": []
          }
        },
        {
          "output_type": "stream",
          "text": [
            "Epoch 1/10\n",
            "98/98 [==============================] - 1s 5ms/step - loss: 1.8865 - accuracy: 0.3822 - val_loss: 1.3051 - val_accuracy: 0.6494\n",
            "Epoch 2/10\n",
            "98/98 [==============================] - 0s 4ms/step - loss: 1.0757 - accuracy: 0.7249 - val_loss: 0.8612 - val_accuracy: 0.7905\n",
            "Epoch 3/10\n",
            "98/98 [==============================] - 0s 4ms/step - loss: 0.7572 - accuracy: 0.8158 - val_loss: 0.6393 - val_accuracy: 0.8443\n",
            "Epoch 4/10\n",
            "98/98 [==============================] - 0s 4ms/step - loss: 0.5903 - accuracy: 0.8550 - val_loss: 0.5187 - val_accuracy: 0.8704\n",
            "Epoch 5/10\n",
            "98/98 [==============================] - 0s 5ms/step - loss: 0.4949 - accuracy: 0.8752 - val_loss: 0.4532 - val_accuracy: 0.8827\n",
            "Epoch 6/10\n",
            "98/98 [==============================] - 0s 4ms/step - loss: 0.4311 - accuracy: 0.8882 - val_loss: 0.4020 - val_accuracy: 0.8915\n",
            "Epoch 7/10\n",
            "98/98 [==============================] - 0s 5ms/step - loss: 0.3862 - accuracy: 0.8973 - val_loss: 0.3674 - val_accuracy: 0.9040\n",
            "Epoch 8/10\n",
            "98/98 [==============================] - 0s 4ms/step - loss: 0.3541 - accuracy: 0.9046 - val_loss: 0.3404 - val_accuracy: 0.9063\n",
            "Epoch 9/10\n",
            "98/98 [==============================] - 0s 5ms/step - loss: 0.3219 - accuracy: 0.9118 - val_loss: 0.3233 - val_accuracy: 0.9105\n",
            "Epoch 10/10\n",
            "98/98 [==============================] - 0s 5ms/step - loss: 0.3040 - accuracy: 0.9158 - val_loss: 0.3094 - val_accuracy: 0.9149\n",
            "Epoch 1/10\n",
            "98/98 [==============================] - 0s 5ms/step - loss: 1.8263 - accuracy: 0.3986 - val_loss: 1.3200 - val_accuracy: 0.6320\n",
            "Epoch 2/10\n",
            "98/98 [==============================] - 0s 4ms/step - loss: 1.1019 - accuracy: 0.7045 - val_loss: 0.9116 - val_accuracy: 0.7627\n",
            "Epoch 3/10\n",
            "98/98 [==============================] - 0s 4ms/step - loss: 0.8031 - accuracy: 0.7925 - val_loss: 0.7035 - val_accuracy: 0.8200\n",
            "Epoch 4/10\n",
            "98/98 [==============================] - 0s 4ms/step - loss: 0.6389 - accuracy: 0.8350 - val_loss: 0.5821 - val_accuracy: 0.8491\n",
            "Epoch 5/10\n",
            "98/98 [==============================] - 0s 4ms/step - loss: 0.5361 - accuracy: 0.8605 - val_loss: 0.5070 - val_accuracy: 0.8675\n",
            "Epoch 6/10\n",
            "98/98 [==============================] - 0s 4ms/step - loss: 0.4661 - accuracy: 0.8763 - val_loss: 0.4431 - val_accuracy: 0.8802\n",
            "Epoch 7/10\n",
            "98/98 [==============================] - 0s 5ms/step - loss: 0.4140 - accuracy: 0.8889 - val_loss: 0.3997 - val_accuracy: 0.8915\n",
            "Epoch 8/10\n",
            "98/98 [==============================] - 0s 4ms/step - loss: 0.3731 - accuracy: 0.8977 - val_loss: 0.3668 - val_accuracy: 0.8957\n",
            "Epoch 9/10\n",
            "98/98 [==============================] - 0s 4ms/step - loss: 0.3421 - accuracy: 0.9043 - val_loss: 0.3448 - val_accuracy: 0.9040\n",
            "Epoch 10/10\n",
            "98/98 [==============================] - 0s 4ms/step - loss: 0.3178 - accuracy: 0.9103 - val_loss: 0.3226 - val_accuracy: 0.9090\n",
            "Epoch 1/10\n",
            "98/98 [==============================] - 1s 5ms/step - loss: 1.7795 - accuracy: 0.4285 - val_loss: 1.2824 - val_accuracy: 0.6570\n",
            "Epoch 2/10\n",
            "98/98 [==============================] - 0s 4ms/step - loss: 1.0696 - accuracy: 0.7293 - val_loss: 0.8768 - val_accuracy: 0.7895\n",
            "Epoch 3/10\n",
            "98/98 [==============================] - 0s 4ms/step - loss: 0.7699 - accuracy: 0.8136 - val_loss: 0.6634 - val_accuracy: 0.8394\n",
            "Epoch 4/10\n",
            "98/98 [==============================] - 0s 4ms/step - loss: 0.6036 - accuracy: 0.8511 - val_loss: 0.5357 - val_accuracy: 0.8681\n",
            "Epoch 5/10\n",
            "98/98 [==============================] - 0s 4ms/step - loss: 0.5035 - accuracy: 0.8717 - val_loss: 0.4633 - val_accuracy: 0.8789\n",
            "Epoch 6/10\n",
            "98/98 [==============================] - 0s 4ms/step - loss: 0.4390 - accuracy: 0.8849 - val_loss: 0.4134 - val_accuracy: 0.8908\n",
            "Epoch 7/10\n",
            "98/98 [==============================] - 0s 5ms/step - loss: 0.3923 - accuracy: 0.8940 - val_loss: 0.3753 - val_accuracy: 0.8994\n",
            "Epoch 8/10\n",
            "98/98 [==============================] - 0s 4ms/step - loss: 0.3569 - accuracy: 0.9031 - val_loss: 0.3495 - val_accuracy: 0.9030\n",
            "Epoch 9/10\n",
            "98/98 [==============================] - 0s 4ms/step - loss: 0.3261 - accuracy: 0.9109 - val_loss: 0.3236 - val_accuracy: 0.9100\n",
            "Epoch 10/10\n",
            "98/98 [==============================] - 0s 4ms/step - loss: 0.3055 - accuracy: 0.9155 - val_loss: 0.3048 - val_accuracy: 0.9135\n"
          ],
          "name": "stdout"
        },
        {
          "output_type": "display_data",
          "data": {
            "text/html": [
              "<span style=\"color:#4527A0\"><h1 style=\"font-size:18px\">Trial complete</h1></span>"
            ],
            "text/plain": [
              "<IPython.core.display.HTML object>"
            ]
          },
          "metadata": {
            "tags": []
          }
        },
        {
          "output_type": "display_data",
          "data": {
            "text/html": [
              "<span style=\"color:#4527A0\"><h1 style=\"font-size:18px\">Trial summary</h1></span>"
            ],
            "text/plain": [
              "<IPython.core.display.HTML object>"
            ]
          },
          "metadata": {
            "tags": []
          }
        },
        {
          "output_type": "display_data",
          "data": {
            "text/html": [
              "<span style=\"color:cyan\"> |-Trial ID: a661f1f30f496b28f133c0eda7660271</span>"
            ],
            "text/plain": [
              "<IPython.core.display.HTML object>"
            ]
          },
          "metadata": {
            "tags": []
          }
        },
        {
          "output_type": "display_data",
          "data": {
            "text/html": [
              "<span style=\"color:cyan\"> |-Score: 0.9124666651089987</span>"
            ],
            "text/plain": [
              "<IPython.core.display.HTML object>"
            ]
          },
          "metadata": {
            "tags": []
          }
        },
        {
          "output_type": "display_data",
          "data": {
            "text/html": [
              "<span style=\"color:cyan\"> |-Best step: 0</span>"
            ],
            "text/plain": [
              "<IPython.core.display.HTML object>"
            ]
          },
          "metadata": {
            "tags": []
          }
        },
        {
          "output_type": "display_data",
          "data": {
            "text/html": [
              "<span style=\"color:#7E57C2\"><h2 style=\"font-size:16px\">Hyperparameters:</h2></span>"
            ],
            "text/plain": [
              "<IPython.core.display.HTML object>"
            ]
          },
          "metadata": {
            "tags": []
          }
        },
        {
          "output_type": "display_data",
          "data": {
            "text/html": [
              "<span style=\"color:cyan\"> |-activation: tanh</span>"
            ],
            "text/plain": [
              "<IPython.core.display.HTML object>"
            ]
          },
          "metadata": {
            "tags": []
          }
        },
        {
          "output_type": "display_data",
          "data": {
            "text/html": [
              "<span style=\"color:blue\"> |-learning_rate: 0.0001</span>"
            ],
            "text/plain": [
              "<IPython.core.display.HTML object>"
            ]
          },
          "metadata": {
            "tags": []
          }
        },
        {
          "output_type": "display_data",
          "data": {
            "text/html": [
              "<span style=\"color:cyan\"> |-number_of_layers: 2</span>"
            ],
            "text/plain": [
              "<IPython.core.display.HTML object>"
            ]
          },
          "metadata": {
            "tags": []
          }
        },
        {
          "output_type": "display_data",
          "data": {
            "text/html": [
              "<span style=\"color:blue\"> |-units: 256</span>"
            ],
            "text/plain": [
              "<IPython.core.display.HTML object>"
            ]
          },
          "metadata": {
            "tags": []
          }
        },
        {
          "output_type": "stream",
          "text": [
            "Epoch 1/10\n",
            "98/98 [==============================] - 1s 5ms/step - loss: 11.3497 - accuracy: 0.6001 - val_loss: 3.0878 - val_accuracy: 0.7836\n",
            "Epoch 2/10\n",
            "98/98 [==============================] - 0s 4ms/step - loss: 2.3365 - accuracy: 0.8154 - val_loss: 1.9271 - val_accuracy: 0.8326\n",
            "Epoch 3/10\n",
            "98/98 [==============================] - 0s 4ms/step - loss: 1.4842 - accuracy: 0.8576 - val_loss: 1.4579 - val_accuracy: 0.8588\n",
            "Epoch 4/10\n",
            "98/98 [==============================] - 0s 5ms/step - loss: 1.0710 - accuracy: 0.8807 - val_loss: 1.2079 - val_accuracy: 0.8733\n",
            "Epoch 5/10\n",
            "98/98 [==============================] - 0s 4ms/step - loss: 0.8209 - accuracy: 0.8979 - val_loss: 1.0406 - val_accuracy: 0.8853\n",
            "Epoch 6/10\n",
            "98/98 [==============================] - 0s 5ms/step - loss: 0.6519 - accuracy: 0.9113 - val_loss: 0.9459 - val_accuracy: 0.8931\n",
            "Epoch 7/10\n",
            "98/98 [==============================] - 0s 4ms/step - loss: 0.5301 - accuracy: 0.9231 - val_loss: 0.8721 - val_accuracy: 0.9002\n",
            "Epoch 8/10\n",
            "98/98 [==============================] - 0s 5ms/step - loss: 0.4330 - accuracy: 0.9332 - val_loss: 0.8153 - val_accuracy: 0.9054\n",
            "Epoch 9/10\n",
            "98/98 [==============================] - 0s 5ms/step - loss: 0.3604 - accuracy: 0.9400 - val_loss: 0.7831 - val_accuracy: 0.9092\n",
            "Epoch 10/10\n",
            "98/98 [==============================] - 0s 5ms/step - loss: 0.3007 - accuracy: 0.9471 - val_loss: 0.7445 - val_accuracy: 0.9131\n",
            "Epoch 1/10\n",
            "98/98 [==============================] - 0s 5ms/step - loss: 14.1331 - accuracy: 0.4313 - val_loss: 3.0428 - val_accuracy: 0.6058\n",
            "Epoch 2/10\n",
            "98/98 [==============================] - 0s 4ms/step - loss: 2.2331 - accuracy: 0.6437 - val_loss: 1.5985 - val_accuracy: 0.6979\n",
            "Epoch 3/10\n",
            "98/98 [==============================] - 0s 4ms/step - loss: 1.3228 - accuracy: 0.7174 - val_loss: 1.1357 - val_accuracy: 0.7456\n",
            "Epoch 4/10\n",
            "98/98 [==============================] - 0s 4ms/step - loss: 0.9618 - accuracy: 0.7732 - val_loss: 0.9292 - val_accuracy: 0.7926\n",
            "Epoch 5/10\n",
            "98/98 [==============================] - 0s 4ms/step - loss: 0.7715 - accuracy: 0.8124 - val_loss: 0.8171 - val_accuracy: 0.8190\n",
            "Epoch 6/10\n",
            "98/98 [==============================] - 0s 4ms/step - loss: 0.6468 - accuracy: 0.8410 - val_loss: 0.7224 - val_accuracy: 0.8360\n",
            "Epoch 7/10\n",
            "98/98 [==============================] - 0s 4ms/step - loss: 0.5549 - accuracy: 0.8610 - val_loss: 0.6595 - val_accuracy: 0.8541\n",
            "Epoch 8/10\n",
            "98/98 [==============================] - 0s 4ms/step - loss: 0.4846 - accuracy: 0.8785 - val_loss: 0.6051 - val_accuracy: 0.8676\n",
            "Epoch 9/10\n",
            "98/98 [==============================] - 0s 4ms/step - loss: 0.4253 - accuracy: 0.8913 - val_loss: 0.5683 - val_accuracy: 0.8742\n",
            "Epoch 10/10\n",
            "98/98 [==============================] - 0s 4ms/step - loss: 0.3777 - accuracy: 0.9023 - val_loss: 0.5341 - val_accuracy: 0.8841\n",
            "Epoch 1/10\n",
            "98/98 [==============================] - 0s 5ms/step - loss: 11.8551 - accuracy: 0.5635 - val_loss: 2.6115 - val_accuracy: 0.7868\n",
            "Epoch 2/10\n",
            "98/98 [==============================] - 0s 4ms/step - loss: 2.0251 - accuracy: 0.8191 - val_loss: 1.5862 - val_accuracy: 0.8470\n",
            "Epoch 3/10\n",
            "98/98 [==============================] - 0s 4ms/step - loss: 1.2776 - accuracy: 0.8675 - val_loss: 1.2064 - val_accuracy: 0.8697\n",
            "Epoch 4/10\n",
            "98/98 [==============================] - 0s 4ms/step - loss: 0.9257 - accuracy: 0.8915 - val_loss: 1.0160 - val_accuracy: 0.8845\n",
            "Epoch 5/10\n",
            "98/98 [==============================] - 0s 4ms/step - loss: 0.7095 - accuracy: 0.9090 - val_loss: 0.8999 - val_accuracy: 0.8924\n",
            "Epoch 6/10\n",
            "98/98 [==============================] - 0s 4ms/step - loss: 0.5670 - accuracy: 0.9208 - val_loss: 0.8264 - val_accuracy: 0.8976\n",
            "Epoch 7/10\n",
            "98/98 [==============================] - 0s 4ms/step - loss: 0.4608 - accuracy: 0.9309 - val_loss: 0.7715 - val_accuracy: 0.9016\n",
            "Epoch 8/10\n",
            "98/98 [==============================] - 0s 4ms/step - loss: 0.3781 - accuracy: 0.9406 - val_loss: 0.7188 - val_accuracy: 0.9065\n",
            "Epoch 9/10\n",
            "98/98 [==============================] - 0s 5ms/step - loss: 0.3150 - accuracy: 0.9472 - val_loss: 0.6899 - val_accuracy: 0.9092\n",
            "Epoch 10/10\n",
            "98/98 [==============================] - 0s 4ms/step - loss: 0.2598 - accuracy: 0.9547 - val_loss: 0.6585 - val_accuracy: 0.9136\n"
          ],
          "name": "stdout"
        },
        {
          "output_type": "display_data",
          "data": {
            "text/html": [
              "<span style=\"color:#4527A0\"><h1 style=\"font-size:18px\">Trial complete</h1></span>"
            ],
            "text/plain": [
              "<IPython.core.display.HTML object>"
            ]
          },
          "metadata": {
            "tags": []
          }
        },
        {
          "output_type": "display_data",
          "data": {
            "text/html": [
              "<span style=\"color:#4527A0\"><h1 style=\"font-size:18px\">Trial summary</h1></span>"
            ],
            "text/plain": [
              "<IPython.core.display.HTML object>"
            ]
          },
          "metadata": {
            "tags": []
          }
        },
        {
          "output_type": "display_data",
          "data": {
            "text/html": [
              "<span style=\"color:cyan\"> |-Trial ID: 00aff7fc153383f2db69f12f338b64e7</span>"
            ],
            "text/plain": [
              "<IPython.core.display.HTML object>"
            ]
          },
          "metadata": {
            "tags": []
          }
        },
        {
          "output_type": "display_data",
          "data": {
            "text/html": [
              "<span style=\"color:cyan\"> |-Score: 0.903600017229716</span>"
            ],
            "text/plain": [
              "<IPython.core.display.HTML object>"
            ]
          },
          "metadata": {
            "tags": []
          }
        },
        {
          "output_type": "display_data",
          "data": {
            "text/html": [
              "<span style=\"color:cyan\"> |-Best step: 0</span>"
            ],
            "text/plain": [
              "<IPython.core.display.HTML object>"
            ]
          },
          "metadata": {
            "tags": []
          }
        },
        {
          "output_type": "display_data",
          "data": {
            "text/html": [
              "<span style=\"color:#7E57C2\"><h2 style=\"font-size:16px\">Hyperparameters:</h2></span>"
            ],
            "text/plain": [
              "<IPython.core.display.HTML object>"
            ]
          },
          "metadata": {
            "tags": []
          }
        },
        {
          "output_type": "display_data",
          "data": {
            "text/html": [
              "<span style=\"color:cyan\"> |-activation: relu</span>"
            ],
            "text/plain": [
              "<IPython.core.display.HTML object>"
            ]
          },
          "metadata": {
            "tags": []
          }
        },
        {
          "output_type": "display_data",
          "data": {
            "text/html": [
              "<span style=\"color:blue\"> |-learning_rate: 0.0001</span>"
            ],
            "text/plain": [
              "<IPython.core.display.HTML object>"
            ]
          },
          "metadata": {
            "tags": []
          }
        },
        {
          "output_type": "display_data",
          "data": {
            "text/html": [
              "<span style=\"color:cyan\"> |-number_of_layers: 2</span>"
            ],
            "text/plain": [
              "<IPython.core.display.HTML object>"
            ]
          },
          "metadata": {
            "tags": []
          }
        },
        {
          "output_type": "display_data",
          "data": {
            "text/html": [
              "<span style=\"color:blue\"> |-units: 512</span>"
            ],
            "text/plain": [
              "<IPython.core.display.HTML object>"
            ]
          },
          "metadata": {
            "tags": []
          }
        },
        {
          "output_type": "stream",
          "text": [
            "INFO:tensorflow:Oracle triggered exit\n"
          ],
          "name": "stdout"
        }
      ]
    },
    {
      "cell_type": "markdown",
      "metadata": {
        "id": "vPIYBoVda7yO",
        "colab_type": "text"
      },
      "source": [
        "Here's what happens in search: models are built iteratively by calling the model-building function, which populates the hyperparameter space (search space) tracked by the hp object. The tuner progressively explores the space, recording metrics for each configuration.\n",
        "\n",
        "When search is over, you can retrieve the best model(s):"
      ]
    },
    {
      "cell_type": "code",
      "metadata": {
        "id": "CPOVpVv1a6_i",
        "colab_type": "code",
        "colab": {}
      },
      "source": [
        "models = tuner.get_best_models(1)[0] #this is the best model. Set get_best_models(2)\n",
        "                                     # to get the 2 best models, etc."
      ],
      "execution_count": null,
      "outputs": []
    },
    {
      "cell_type": "markdown",
      "metadata": {
        "id": "mnlqSk_VbKTB",
        "colab_type": "text"
      },
      "source": [
        "Or print a summary of the results. The models are listed **best to worst**, so the saved model has the parameters shown at the top of the list. \n"
      ]
    },
    {
      "cell_type": "code",
      "metadata": {
        "id": "CLgB-py7bKkT",
        "colab_type": "code",
        "colab": {
          "base_uri": "https://localhost:8080/",
          "height": 1000
        },
        "outputId": "8a0c0a3b-0fbe-4d85-ebff-c5938a483906"
      },
      "source": [
        "tuner.results_summary()"
      ],
      "execution_count": null,
      "outputs": [
        {
          "output_type": "display_data",
          "data": {
            "text/html": [
              "<span style=\"color:#4527A0\"><h1 style=\"font-size:18px\">Results summary</h1></span>"
            ],
            "text/plain": [
              "<IPython.core.display.HTML object>"
            ]
          },
          "metadata": {
            "tags": []
          }
        },
        {
          "output_type": "display_data",
          "data": {
            "text/html": [
              "<span style=\"color:cyan\"> |-Results in my_dir/helloworld</span>"
            ],
            "text/plain": [
              "<IPython.core.display.HTML object>"
            ]
          },
          "metadata": {
            "tags": []
          }
        },
        {
          "output_type": "display_data",
          "data": {
            "text/html": [
              "<span style=\"color:cyan\"> |-Showing 10 best trials</span>"
            ],
            "text/plain": [
              "<IPython.core.display.HTML object>"
            ]
          },
          "metadata": {
            "tags": []
          }
        },
        {
          "output_type": "display_data",
          "data": {
            "text/html": [
              "<span style=\"color:cyan\"> |-Objective(name='val_accuracy', direction='max')</span>"
            ],
            "text/plain": [
              "<IPython.core.display.HTML object>"
            ]
          },
          "metadata": {
            "tags": []
          }
        },
        {
          "output_type": "display_data",
          "data": {
            "text/html": [
              "<span style=\"color:#4527A0\"><h1 style=\"font-size:18px\">Trial summary</h1></span>"
            ],
            "text/plain": [
              "<IPython.core.display.HTML object>"
            ]
          },
          "metadata": {
            "tags": []
          }
        },
        {
          "output_type": "display_data",
          "data": {
            "text/html": [
              "<span style=\"color:cyan\"> |-Trial ID: 03e4727b31926a15a4eee696f0d93112</span>"
            ],
            "text/plain": [
              "<IPython.core.display.HTML object>"
            ]
          },
          "metadata": {
            "tags": []
          }
        },
        {
          "output_type": "display_data",
          "data": {
            "text/html": [
              "<span style=\"color:cyan\"> |-Score: 0.9370333353678385</span>"
            ],
            "text/plain": [
              "<IPython.core.display.HTML object>"
            ]
          },
          "metadata": {
            "tags": []
          }
        },
        {
          "output_type": "display_data",
          "data": {
            "text/html": [
              "<span style=\"color:cyan\"> |-Best step: 0</span>"
            ],
            "text/plain": [
              "<IPython.core.display.HTML object>"
            ]
          },
          "metadata": {
            "tags": []
          }
        },
        {
          "output_type": "display_data",
          "data": {
            "text/html": [
              "<span style=\"color:#7E57C2\"><h2 style=\"font-size:16px\">Hyperparameters:</h2></span>"
            ],
            "text/plain": [
              "<IPython.core.display.HTML object>"
            ]
          },
          "metadata": {
            "tags": []
          }
        },
        {
          "output_type": "display_data",
          "data": {
            "text/html": [
              "<span style=\"color:cyan\"> |-activation: relu</span>"
            ],
            "text/plain": [
              "<IPython.core.display.HTML object>"
            ]
          },
          "metadata": {
            "tags": []
          }
        },
        {
          "output_type": "display_data",
          "data": {
            "text/html": [
              "<span style=\"color:blue\"> |-learning_rate: 0.01</span>"
            ],
            "text/plain": [
              "<IPython.core.display.HTML object>"
            ]
          },
          "metadata": {
            "tags": []
          }
        },
        {
          "output_type": "display_data",
          "data": {
            "text/html": [
              "<span style=\"color:cyan\"> |-number_of_layers: 0</span>"
            ],
            "text/plain": [
              "<IPython.core.display.HTML object>"
            ]
          },
          "metadata": {
            "tags": []
          }
        },
        {
          "output_type": "display_data",
          "data": {
            "text/html": [
              "<span style=\"color:blue\"> |-units: 512</span>"
            ],
            "text/plain": [
              "<IPython.core.display.HTML object>"
            ]
          },
          "metadata": {
            "tags": []
          }
        },
        {
          "output_type": "display_data",
          "data": {
            "text/html": [
              "<span style=\"color:#4527A0\"><h1 style=\"font-size:18px\">Trial summary</h1></span>"
            ],
            "text/plain": [
              "<IPython.core.display.HTML object>"
            ]
          },
          "metadata": {
            "tags": []
          }
        },
        {
          "output_type": "display_data",
          "data": {
            "text/html": [
              "<span style=\"color:cyan\"> |-Trial ID: 006f5f3125367b0aeadf6d98f2c29a1c</span>"
            ],
            "text/plain": [
              "<IPython.core.display.HTML object>"
            ]
          },
          "metadata": {
            "tags": []
          }
        },
        {
          "output_type": "display_data",
          "data": {
            "text/html": [
              "<span style=\"color:cyan\"> |-Score: 0.9354999860127767</span>"
            ],
            "text/plain": [
              "<IPython.core.display.HTML object>"
            ]
          },
          "metadata": {
            "tags": []
          }
        },
        {
          "output_type": "display_data",
          "data": {
            "text/html": [
              "<span style=\"color:cyan\"> |-Best step: 0</span>"
            ],
            "text/plain": [
              "<IPython.core.display.HTML object>"
            ]
          },
          "metadata": {
            "tags": []
          }
        },
        {
          "output_type": "display_data",
          "data": {
            "text/html": [
              "<span style=\"color:#7E57C2\"><h2 style=\"font-size:16px\">Hyperparameters:</h2></span>"
            ],
            "text/plain": [
              "<IPython.core.display.HTML object>"
            ]
          },
          "metadata": {
            "tags": []
          }
        },
        {
          "output_type": "display_data",
          "data": {
            "text/html": [
              "<span style=\"color:cyan\"> |-activation: tanh</span>"
            ],
            "text/plain": [
              "<IPython.core.display.HTML object>"
            ]
          },
          "metadata": {
            "tags": []
          }
        },
        {
          "output_type": "display_data",
          "data": {
            "text/html": [
              "<span style=\"color:blue\"> |-learning_rate: 0.0001</span>"
            ],
            "text/plain": [
              "<IPython.core.display.HTML object>"
            ]
          },
          "metadata": {
            "tags": []
          }
        },
        {
          "output_type": "display_data",
          "data": {
            "text/html": [
              "<span style=\"color:cyan\"> |-number_of_layers: 0</span>"
            ],
            "text/plain": [
              "<IPython.core.display.HTML object>"
            ]
          },
          "metadata": {
            "tags": []
          }
        },
        {
          "output_type": "display_data",
          "data": {
            "text/html": [
              "<span style=\"color:blue\"> |-units: 512</span>"
            ],
            "text/plain": [
              "<IPython.core.display.HTML object>"
            ]
          },
          "metadata": {
            "tags": []
          }
        },
        {
          "output_type": "display_data",
          "data": {
            "text/html": [
              "<span style=\"color:#4527A0\"><h1 style=\"font-size:18px\">Trial summary</h1></span>"
            ],
            "text/plain": [
              "<IPython.core.display.HTML object>"
            ]
          },
          "metadata": {
            "tags": []
          }
        },
        {
          "output_type": "display_data",
          "data": {
            "text/html": [
              "<span style=\"color:cyan\"> |-Trial ID: 4bf0a8ada8dddd935df1840adb8bb1b6</span>"
            ],
            "text/plain": [
              "<IPython.core.display.HTML object>"
            ]
          },
          "metadata": {
            "tags": []
          }
        },
        {
          "output_type": "display_data",
          "data": {
            "text/html": [
              "<span style=\"color:cyan\"> |-Score: 0.9324333469072977</span>"
            ],
            "text/plain": [
              "<IPython.core.display.HTML object>"
            ]
          },
          "metadata": {
            "tags": []
          }
        },
        {
          "output_type": "display_data",
          "data": {
            "text/html": [
              "<span style=\"color:cyan\"> |-Best step: 0</span>"
            ],
            "text/plain": [
              "<IPython.core.display.HTML object>"
            ]
          },
          "metadata": {
            "tags": []
          }
        },
        {
          "output_type": "display_data",
          "data": {
            "text/html": [
              "<span style=\"color:#7E57C2\"><h2 style=\"font-size:16px\">Hyperparameters:</h2></span>"
            ],
            "text/plain": [
              "<IPython.core.display.HTML object>"
            ]
          },
          "metadata": {
            "tags": []
          }
        },
        {
          "output_type": "display_data",
          "data": {
            "text/html": [
              "<span style=\"color:cyan\"> |-activation: relu</span>"
            ],
            "text/plain": [
              "<IPython.core.display.HTML object>"
            ]
          },
          "metadata": {
            "tags": []
          }
        },
        {
          "output_type": "display_data",
          "data": {
            "text/html": [
              "<span style=\"color:blue\"> |-learning_rate: 0.0001</span>"
            ],
            "text/plain": [
              "<IPython.core.display.HTML object>"
            ]
          },
          "metadata": {
            "tags": []
          }
        },
        {
          "output_type": "display_data",
          "data": {
            "text/html": [
              "<span style=\"color:cyan\"> |-number_of_layers: 0</span>"
            ],
            "text/plain": [
              "<IPython.core.display.HTML object>"
            ]
          },
          "metadata": {
            "tags": []
          }
        },
        {
          "output_type": "display_data",
          "data": {
            "text/html": [
              "<span style=\"color:blue\"> |-units: 512</span>"
            ],
            "text/plain": [
              "<IPython.core.display.HTML object>"
            ]
          },
          "metadata": {
            "tags": []
          }
        },
        {
          "output_type": "display_data",
          "data": {
            "text/html": [
              "<span style=\"color:#4527A0\"><h1 style=\"font-size:18px\">Trial summary</h1></span>"
            ],
            "text/plain": [
              "<IPython.core.display.HTML object>"
            ]
          },
          "metadata": {
            "tags": []
          }
        },
        {
          "output_type": "display_data",
          "data": {
            "text/html": [
              "<span style=\"color:cyan\"> |-Trial ID: eada4730bc13824c950e9dc8f8c4132c</span>"
            ],
            "text/plain": [
              "<IPython.core.display.HTML object>"
            ]
          },
          "metadata": {
            "tags": []
          }
        },
        {
          "output_type": "display_data",
          "data": {
            "text/html": [
              "<span style=\"color:cyan\"> |-Score: 0.927899976571401</span>"
            ],
            "text/plain": [
              "<IPython.core.display.HTML object>"
            ]
          },
          "metadata": {
            "tags": []
          }
        },
        {
          "output_type": "display_data",
          "data": {
            "text/html": [
              "<span style=\"color:cyan\"> |-Best step: 0</span>"
            ],
            "text/plain": [
              "<IPython.core.display.HTML object>"
            ]
          },
          "metadata": {
            "tags": []
          }
        },
        {
          "output_type": "display_data",
          "data": {
            "text/html": [
              "<span style=\"color:#7E57C2\"><h2 style=\"font-size:16px\">Hyperparameters:</h2></span>"
            ],
            "text/plain": [
              "<IPython.core.display.HTML object>"
            ]
          },
          "metadata": {
            "tags": []
          }
        },
        {
          "output_type": "display_data",
          "data": {
            "text/html": [
              "<span style=\"color:cyan\"> |-activation: relu</span>"
            ],
            "text/plain": [
              "<IPython.core.display.HTML object>"
            ]
          },
          "metadata": {
            "tags": []
          }
        },
        {
          "output_type": "display_data",
          "data": {
            "text/html": [
              "<span style=\"color:blue\"> |-learning_rate: 0.001</span>"
            ],
            "text/plain": [
              "<IPython.core.display.HTML object>"
            ]
          },
          "metadata": {
            "tags": []
          }
        },
        {
          "output_type": "display_data",
          "data": {
            "text/html": [
              "<span style=\"color:cyan\"> |-number_of_layers: 3</span>"
            ],
            "text/plain": [
              "<IPython.core.display.HTML object>"
            ]
          },
          "metadata": {
            "tags": []
          }
        },
        {
          "output_type": "display_data",
          "data": {
            "text/html": [
              "<span style=\"color:blue\"> |-units: 64</span>"
            ],
            "text/plain": [
              "<IPython.core.display.HTML object>"
            ]
          },
          "metadata": {
            "tags": []
          }
        },
        {
          "output_type": "display_data",
          "data": {
            "text/html": [
              "<span style=\"color:#4527A0\"><h1 style=\"font-size:18px\">Trial summary</h1></span>"
            ],
            "text/plain": [
              "<IPython.core.display.HTML object>"
            ]
          },
          "metadata": {
            "tags": []
          }
        },
        {
          "output_type": "display_data",
          "data": {
            "text/html": [
              "<span style=\"color:cyan\"> |-Trial ID: 2ce24f0139256c0841be107e4290e300</span>"
            ],
            "text/plain": [
              "<IPython.core.display.HTML object>"
            ]
          },
          "metadata": {
            "tags": []
          }
        },
        {
          "output_type": "display_data",
          "data": {
            "text/html": [
              "<span style=\"color:cyan\"> |-Score: 0.9269000093142191</span>"
            ],
            "text/plain": [
              "<IPython.core.display.HTML object>"
            ]
          },
          "metadata": {
            "tags": []
          }
        },
        {
          "output_type": "display_data",
          "data": {
            "text/html": [
              "<span style=\"color:cyan\"> |-Best step: 0</span>"
            ],
            "text/plain": [
              "<IPython.core.display.HTML object>"
            ]
          },
          "metadata": {
            "tags": []
          }
        },
        {
          "output_type": "display_data",
          "data": {
            "text/html": [
              "<span style=\"color:#7E57C2\"><h2 style=\"font-size:16px\">Hyperparameters:</h2></span>"
            ],
            "text/plain": [
              "<IPython.core.display.HTML object>"
            ]
          },
          "metadata": {
            "tags": []
          }
        },
        {
          "output_type": "display_data",
          "data": {
            "text/html": [
              "<span style=\"color:cyan\"> |-activation: tanh</span>"
            ],
            "text/plain": [
              "<IPython.core.display.HTML object>"
            ]
          },
          "metadata": {
            "tags": []
          }
        },
        {
          "output_type": "display_data",
          "data": {
            "text/html": [
              "<span style=\"color:blue\"> |-learning_rate: 0.0001</span>"
            ],
            "text/plain": [
              "<IPython.core.display.HTML object>"
            ]
          },
          "metadata": {
            "tags": []
          }
        },
        {
          "output_type": "display_data",
          "data": {
            "text/html": [
              "<span style=\"color:cyan\"> |-number_of_layers: 3</span>"
            ],
            "text/plain": [
              "<IPython.core.display.HTML object>"
            ]
          },
          "metadata": {
            "tags": []
          }
        },
        {
          "output_type": "display_data",
          "data": {
            "text/html": [
              "<span style=\"color:blue\"> |-units: 512</span>"
            ],
            "text/plain": [
              "<IPython.core.display.HTML object>"
            ]
          },
          "metadata": {
            "tags": []
          }
        },
        {
          "output_type": "display_data",
          "data": {
            "text/html": [
              "<span style=\"color:#4527A0\"><h1 style=\"font-size:18px\">Trial summary</h1></span>"
            ],
            "text/plain": [
              "<IPython.core.display.HTML object>"
            ]
          },
          "metadata": {
            "tags": []
          }
        },
        {
          "output_type": "display_data",
          "data": {
            "text/html": [
              "<span style=\"color:cyan\"> |-Trial ID: d48afc2274286a45b12e2ee59f444955</span>"
            ],
            "text/plain": [
              "<IPython.core.display.HTML object>"
            ]
          },
          "metadata": {
            "tags": []
          }
        },
        {
          "output_type": "display_data",
          "data": {
            "text/html": [
              "<span style=\"color:cyan\"> |-Score: 0.9241000215212504</span>"
            ],
            "text/plain": [
              "<IPython.core.display.HTML object>"
            ]
          },
          "metadata": {
            "tags": []
          }
        },
        {
          "output_type": "display_data",
          "data": {
            "text/html": [
              "<span style=\"color:cyan\"> |-Best step: 0</span>"
            ],
            "text/plain": [
              "<IPython.core.display.HTML object>"
            ]
          },
          "metadata": {
            "tags": []
          }
        },
        {
          "output_type": "display_data",
          "data": {
            "text/html": [
              "<span style=\"color:#7E57C2\"><h2 style=\"font-size:16px\">Hyperparameters:</h2></span>"
            ],
            "text/plain": [
              "<IPython.core.display.HTML object>"
            ]
          },
          "metadata": {
            "tags": []
          }
        },
        {
          "output_type": "display_data",
          "data": {
            "text/html": [
              "<span style=\"color:cyan\"> |-activation: relu</span>"
            ],
            "text/plain": [
              "<IPython.core.display.HTML object>"
            ]
          },
          "metadata": {
            "tags": []
          }
        },
        {
          "output_type": "display_data",
          "data": {
            "text/html": [
              "<span style=\"color:blue\"> |-learning_rate: 0.01</span>"
            ],
            "text/plain": [
              "<IPython.core.display.HTML object>"
            ]
          },
          "metadata": {
            "tags": []
          }
        },
        {
          "output_type": "display_data",
          "data": {
            "text/html": [
              "<span style=\"color:cyan\"> |-number_of_layers: 0</span>"
            ],
            "text/plain": [
              "<IPython.core.display.HTML object>"
            ]
          },
          "metadata": {
            "tags": []
          }
        },
        {
          "output_type": "display_data",
          "data": {
            "text/html": [
              "<span style=\"color:blue\"> |-units: 192</span>"
            ],
            "text/plain": [
              "<IPython.core.display.HTML object>"
            ]
          },
          "metadata": {
            "tags": []
          }
        },
        {
          "output_type": "display_data",
          "data": {
            "text/html": [
              "<span style=\"color:#4527A0\"><h1 style=\"font-size:18px\">Trial summary</h1></span>"
            ],
            "text/plain": [
              "<IPython.core.display.HTML object>"
            ]
          },
          "metadata": {
            "tags": []
          }
        },
        {
          "output_type": "display_data",
          "data": {
            "text/html": [
              "<span style=\"color:cyan\"> |-Trial ID: e549913ceac5341efd19c90d4fe34c58</span>"
            ],
            "text/plain": [
              "<IPython.core.display.HTML object>"
            ]
          },
          "metadata": {
            "tags": []
          }
        },
        {
          "output_type": "display_data",
          "data": {
            "text/html": [
              "<span style=\"color:cyan\"> |-Score: 0.9139000177383423</span>"
            ],
            "text/plain": [
              "<IPython.core.display.HTML object>"
            ]
          },
          "metadata": {
            "tags": []
          }
        },
        {
          "output_type": "display_data",
          "data": {
            "text/html": [
              "<span style=\"color:cyan\"> |-Best step: 0</span>"
            ],
            "text/plain": [
              "<IPython.core.display.HTML object>"
            ]
          },
          "metadata": {
            "tags": []
          }
        },
        {
          "output_type": "display_data",
          "data": {
            "text/html": [
              "<span style=\"color:#7E57C2\"><h2 style=\"font-size:16px\">Hyperparameters:</h2></span>"
            ],
            "text/plain": [
              "<IPython.core.display.HTML object>"
            ]
          },
          "metadata": {
            "tags": []
          }
        },
        {
          "output_type": "display_data",
          "data": {
            "text/html": [
              "<span style=\"color:cyan\"> |-activation: relu</span>"
            ],
            "text/plain": [
              "<IPython.core.display.HTML object>"
            ]
          },
          "metadata": {
            "tags": []
          }
        },
        {
          "output_type": "display_data",
          "data": {
            "text/html": [
              "<span style=\"color:blue\"> |-learning_rate: 0.0001</span>"
            ],
            "text/plain": [
              "<IPython.core.display.HTML object>"
            ]
          },
          "metadata": {
            "tags": []
          }
        },
        {
          "output_type": "display_data",
          "data": {
            "text/html": [
              "<span style=\"color:cyan\"> |-number_of_layers: 4</span>"
            ],
            "text/plain": [
              "<IPython.core.display.HTML object>"
            ]
          },
          "metadata": {
            "tags": []
          }
        },
        {
          "output_type": "display_data",
          "data": {
            "text/html": [
              "<span style=\"color:blue\"> |-units: 512</span>"
            ],
            "text/plain": [
              "<IPython.core.display.HTML object>"
            ]
          },
          "metadata": {
            "tags": []
          }
        },
        {
          "output_type": "display_data",
          "data": {
            "text/html": [
              "<span style=\"color:#4527A0\"><h1 style=\"font-size:18px\">Trial summary</h1></span>"
            ],
            "text/plain": [
              "<IPython.core.display.HTML object>"
            ]
          },
          "metadata": {
            "tags": []
          }
        },
        {
          "output_type": "display_data",
          "data": {
            "text/html": [
              "<span style=\"color:cyan\"> |-Trial ID: a661f1f30f496b28f133c0eda7660271</span>"
            ],
            "text/plain": [
              "<IPython.core.display.HTML object>"
            ]
          },
          "metadata": {
            "tags": []
          }
        },
        {
          "output_type": "display_data",
          "data": {
            "text/html": [
              "<span style=\"color:cyan\"> |-Score: 0.9124666651089987</span>"
            ],
            "text/plain": [
              "<IPython.core.display.HTML object>"
            ]
          },
          "metadata": {
            "tags": []
          }
        },
        {
          "output_type": "display_data",
          "data": {
            "text/html": [
              "<span style=\"color:cyan\"> |-Best step: 0</span>"
            ],
            "text/plain": [
              "<IPython.core.display.HTML object>"
            ]
          },
          "metadata": {
            "tags": []
          }
        },
        {
          "output_type": "display_data",
          "data": {
            "text/html": [
              "<span style=\"color:#7E57C2\"><h2 style=\"font-size:16px\">Hyperparameters:</h2></span>"
            ],
            "text/plain": [
              "<IPython.core.display.HTML object>"
            ]
          },
          "metadata": {
            "tags": []
          }
        },
        {
          "output_type": "display_data",
          "data": {
            "text/html": [
              "<span style=\"color:cyan\"> |-activation: tanh</span>"
            ],
            "text/plain": [
              "<IPython.core.display.HTML object>"
            ]
          },
          "metadata": {
            "tags": []
          }
        },
        {
          "output_type": "display_data",
          "data": {
            "text/html": [
              "<span style=\"color:blue\"> |-learning_rate: 0.0001</span>"
            ],
            "text/plain": [
              "<IPython.core.display.HTML object>"
            ]
          },
          "metadata": {
            "tags": []
          }
        },
        {
          "output_type": "display_data",
          "data": {
            "text/html": [
              "<span style=\"color:cyan\"> |-number_of_layers: 2</span>"
            ],
            "text/plain": [
              "<IPython.core.display.HTML object>"
            ]
          },
          "metadata": {
            "tags": []
          }
        },
        {
          "output_type": "display_data",
          "data": {
            "text/html": [
              "<span style=\"color:blue\"> |-units: 256</span>"
            ],
            "text/plain": [
              "<IPython.core.display.HTML object>"
            ]
          },
          "metadata": {
            "tags": []
          }
        },
        {
          "output_type": "display_data",
          "data": {
            "text/html": [
              "<span style=\"color:#4527A0\"><h1 style=\"font-size:18px\">Trial summary</h1></span>"
            ],
            "text/plain": [
              "<IPython.core.display.HTML object>"
            ]
          },
          "metadata": {
            "tags": []
          }
        },
        {
          "output_type": "display_data",
          "data": {
            "text/html": [
              "<span style=\"color:cyan\"> |-Trial ID: 00aff7fc153383f2db69f12f338b64e7</span>"
            ],
            "text/plain": [
              "<IPython.core.display.HTML object>"
            ]
          },
          "metadata": {
            "tags": []
          }
        },
        {
          "output_type": "display_data",
          "data": {
            "text/html": [
              "<span style=\"color:cyan\"> |-Score: 0.903600017229716</span>"
            ],
            "text/plain": [
              "<IPython.core.display.HTML object>"
            ]
          },
          "metadata": {
            "tags": []
          }
        },
        {
          "output_type": "display_data",
          "data": {
            "text/html": [
              "<span style=\"color:cyan\"> |-Best step: 0</span>"
            ],
            "text/plain": [
              "<IPython.core.display.HTML object>"
            ]
          },
          "metadata": {
            "tags": []
          }
        },
        {
          "output_type": "display_data",
          "data": {
            "text/html": [
              "<span style=\"color:#7E57C2\"><h2 style=\"font-size:16px\">Hyperparameters:</h2></span>"
            ],
            "text/plain": [
              "<IPython.core.display.HTML object>"
            ]
          },
          "metadata": {
            "tags": []
          }
        },
        {
          "output_type": "display_data",
          "data": {
            "text/html": [
              "<span style=\"color:cyan\"> |-activation: relu</span>"
            ],
            "text/plain": [
              "<IPython.core.display.HTML object>"
            ]
          },
          "metadata": {
            "tags": []
          }
        },
        {
          "output_type": "display_data",
          "data": {
            "text/html": [
              "<span style=\"color:blue\"> |-learning_rate: 0.0001</span>"
            ],
            "text/plain": [
              "<IPython.core.display.HTML object>"
            ]
          },
          "metadata": {
            "tags": []
          }
        },
        {
          "output_type": "display_data",
          "data": {
            "text/html": [
              "<span style=\"color:cyan\"> |-number_of_layers: 2</span>"
            ],
            "text/plain": [
              "<IPython.core.display.HTML object>"
            ]
          },
          "metadata": {
            "tags": []
          }
        },
        {
          "output_type": "display_data",
          "data": {
            "text/html": [
              "<span style=\"color:blue\"> |-units: 512</span>"
            ],
            "text/plain": [
              "<IPython.core.display.HTML object>"
            ]
          },
          "metadata": {
            "tags": []
          }
        },
        {
          "output_type": "display_data",
          "data": {
            "text/html": [
              "<span style=\"color:#4527A0\"><h1 style=\"font-size:18px\">Trial summary</h1></span>"
            ],
            "text/plain": [
              "<IPython.core.display.HTML object>"
            ]
          },
          "metadata": {
            "tags": []
          }
        },
        {
          "output_type": "display_data",
          "data": {
            "text/html": [
              "<span style=\"color:cyan\"> |-Trial ID: d47fb1b0610846fea47c6f6763d761d2</span>"
            ],
            "text/plain": [
              "<IPython.core.display.HTML object>"
            ]
          },
          "metadata": {
            "tags": []
          }
        },
        {
          "output_type": "display_data",
          "data": {
            "text/html": [
              "<span style=\"color:cyan\"> |-Score: 0.8717333277066549</span>"
            ],
            "text/plain": [
              "<IPython.core.display.HTML object>"
            ]
          },
          "metadata": {
            "tags": []
          }
        },
        {
          "output_type": "display_data",
          "data": {
            "text/html": [
              "<span style=\"color:cyan\"> |-Best step: 0</span>"
            ],
            "text/plain": [
              "<IPython.core.display.HTML object>"
            ]
          },
          "metadata": {
            "tags": []
          }
        },
        {
          "output_type": "display_data",
          "data": {
            "text/html": [
              "<span style=\"color:#7E57C2\"><h2 style=\"font-size:16px\">Hyperparameters:</h2></span>"
            ],
            "text/plain": [
              "<IPython.core.display.HTML object>"
            ]
          },
          "metadata": {
            "tags": []
          }
        },
        {
          "output_type": "display_data",
          "data": {
            "text/html": [
              "<span style=\"color:cyan\"> |-activation: tanh</span>"
            ],
            "text/plain": [
              "<IPython.core.display.HTML object>"
            ]
          },
          "metadata": {
            "tags": []
          }
        },
        {
          "output_type": "display_data",
          "data": {
            "text/html": [
              "<span style=\"color:blue\"> |-learning_rate: 0.0001</span>"
            ],
            "text/plain": [
              "<IPython.core.display.HTML object>"
            ]
          },
          "metadata": {
            "tags": []
          }
        },
        {
          "output_type": "display_data",
          "data": {
            "text/html": [
              "<span style=\"color:cyan\"> |-number_of_layers: 4</span>"
            ],
            "text/plain": [
              "<IPython.core.display.HTML object>"
            ]
          },
          "metadata": {
            "tags": []
          }
        },
        {
          "output_type": "display_data",
          "data": {
            "text/html": [
              "<span style=\"color:blue\"> |-units: 32</span>"
            ],
            "text/plain": [
              "<IPython.core.display.HTML object>"
            ]
          },
          "metadata": {
            "tags": []
          }
        }
      ]
    },
    {
      "cell_type": "code",
      "metadata": {
        "id": "is0pnp7Kgx5j",
        "colab_type": "code",
        "colab": {
          "base_uri": "https://localhost:8080/",
          "height": 277
        },
        "outputId": "0e63df40-fca8-4433-f406-543b4efef47e"
      },
      "source": [
        "from tensorflow.keras.models import load_model \n",
        "test_loss, test_acc = models.evaluate(test_images,test_labels)\n",
        "print('Accuracy',test_acc)\n",
        "predictions = models.predict(test_images)\n",
        "print(models.summary())"
      ],
      "execution_count": null,
      "outputs": [
        {
          "output_type": "stream",
          "text": [
            "313/313 [==============================] - 1s 2ms/step - loss: 0.3133 - accuracy: 0.9427\n",
            "Accuracy 0.9427000284194946\n",
            "Model: \"sequential\"\n",
            "_________________________________________________________________\n",
            "Layer (type)                 Output Shape              Param #   \n",
            "=================================================================\n",
            "dense (Dense)                (None, 512)               401920    \n",
            "_________________________________________________________________\n",
            "dense_1 (Dense)              (None, 10)                5130      \n",
            "=================================================================\n",
            "Total params: 407,050\n",
            "Trainable params: 407,050\n",
            "Non-trainable params: 0\n",
            "_________________________________________________________________\n",
            "None\n"
          ],
          "name": "stdout"
        }
      ]
    },
    {
      "cell_type": "markdown",
      "metadata": {
        "id": "WCqrygGLA0SJ",
        "colab_type": "text"
      },
      "source": [
        "### Predictions with the (not fully trained) tuned model"
      ]
    },
    {
      "cell_type": "code",
      "metadata": {
        "id": "Qd4Q3XfOi0rG",
        "colab_type": "code",
        "colab": {
          "base_uri": "https://localhost:8080/",
          "height": 173
        },
        "outputId": "87226489-8be9-4c7b-b84c-fabc9bca4167"
      },
      "source": [
        "co = random.randint(0,len(test_images))\n",
        "plt.figure(figsize=(6,2))\n",
        "plt.subplot(121)\n",
        "plt.title('test image #{}'.format(co))\n",
        "plt.imshow(test_images[co].reshape([28,28]))\n",
        "plt.subplot(122)\n",
        "plt.bar(range(10),predictions[co])\n",
        "plt.title('ground truth {}, prediction {}'.format(int(test_labels[co]),\n",
        "                                                  np.argmax(predictions[co])),)\n",
        "plt.yscale('log')\n",
        "plt.xticks(range(10))\n",
        "plt.show()"
      ],
      "execution_count": null,
      "outputs": [
        {
          "output_type": "display_data",
          "data": {
            "image/png": "[encoded data removed]",
            "text/plain": [
              "<Figure size 432x144 with 2 Axes>"
            ]
          },
          "metadata": {
            "tags": [],
            "needs_background": "light"
          }
        }
      ]
    },
    {
      "cell_type": "markdown",
      "metadata": {
        "id": "UxP_OnWIUsnW",
        "colab_type": "text"
      },
      "source": [
        "##Complete training of optimal model\n",
        "\n",
        "Once you have tuned your hyperparameters parameters, don't forget to fully train your model (i.e. further train for a decent number of epochs)! \n",
        "\n",
        "The model has been pre-trained a bit during parameter search, but it's best to keep training it further until you achieve best generalisation (best performance on validation set)"
      ]
    },
    {
      "cell_type": "code",
      "metadata": {
        "id": "bE2SEXYrU5Fx",
        "colab_type": "code",
        "colab": {
          "base_uri": "https://localhost:8080/",
          "height": 280
        },
        "outputId": "71d7dab0-816d-4e97-f91f-745e73040e6c"
      },
      "source": [
        "models.fit(train_images, train_labels,\n",
        "             epochs=50,\n",
        "             batch_size=512,\n",
        "             validation_data=(val_images, val_labels),\n",
        "             callbacks=[keras.callbacks.EarlyStopping(patience=5)])\n",
        "models.save('final_model.h5')\n",
        "test_loss, test_acc = models.evaluate(test_images,test_labels)\n",
        "print('Accuracy',test_acc)\n",
        "\n"
      ],
      "execution_count": null,
      "outputs": [
        {
          "output_type": "stream",
          "text": [
            "Epoch 1/50\n",
            "98/98 [==============================] - 0s 4ms/step - loss: 0.1469 - accuracy: 0.9578 - val_loss: 0.2813 - val_accuracy: 0.9431\n",
            "Epoch 2/50\n",
            "98/98 [==============================] - 0s 4ms/step - loss: 0.1359 - accuracy: 0.9604 - val_loss: 0.3033 - val_accuracy: 0.9436\n",
            "Epoch 3/50\n",
            "98/98 [==============================] - 0s 4ms/step - loss: 0.1427 - accuracy: 0.9589 - val_loss: 0.2974 - val_accuracy: 0.9457\n",
            "Epoch 4/50\n",
            "98/98 [==============================] - 0s 4ms/step - loss: 0.1298 - accuracy: 0.9616 - val_loss: 0.2931 - val_accuracy: 0.9455\n",
            "Epoch 5/50\n",
            "98/98 [==============================] - 0s 4ms/step - loss: 0.1338 - accuracy: 0.9614 - val_loss: 0.3131 - val_accuracy: 0.9430\n",
            "Epoch 6/50\n",
            "98/98 [==============================] - 0s 4ms/step - loss: 0.1268 - accuracy: 0.9637 - val_loss: 0.2867 - val_accuracy: 0.9465\n",
            "313/313 [==============================] - 1s 2ms/step - loss: 0.3311 - accuracy: 0.9476\n",
            "Accuracy 0.9476000070571899\n"
          ],
          "name": "stdout"
        }
      ]
    },
    {
      "cell_type": "markdown",
      "metadata": {
        "id": "xasjSTWCVnqU",
        "colab_type": "text"
      },
      "source": [
        "Predictions with the final model"
      ]
    },
    {
      "cell_type": "code",
      "metadata": {
        "id": "4vULEVvMVnWE",
        "colab_type": "code",
        "colab": {
          "base_uri": "https://localhost:8080/",
          "height": 173
        },
        "outputId": "a0d087d2-e3a5-437f-fb01-a71bd8a52b92"
      },
      "source": [
        "predictions = models.predict(test_images)\n",
        "\n",
        "co = random.randint(0,len(test_images))\n",
        "plt.figure(figsize=(6,2))\n",
        "plt.subplot(121)\n",
        "plt.title('test image #{}'.format(co))\n",
        "plt.imshow(test_images[co].reshape([28,28]))\n",
        "plt.subplot(122)\n",
        "plt.bar(range(10),predictions[co])\n",
        "plt.title('ground truth {}, prediction {}'.format(int(test_labels[co]),\n",
        "                                                  np.argmax(predictions[co])),)\n",
        "plt.yscale('log')\n",
        "plt.xticks(range(10))\n",
        "plt.show()"
      ],
      "execution_count": null,
      "outputs": [
        {
          "output_type": "display_data",
          "data": {
            "image/png": "[encoded data removed]",
            "text/plain": [
              "<Figure size 432x144 with 2 Axes>"
            ]
          },
          "metadata": {
            "tags": [],
            "needs_background": "light"
          }
        }
      ]
    },
    {
      "cell_type": "markdown",
      "metadata": {
        "id": "3_cMhhO-nLir",
        "colab_type": "text"
      },
      "source": [
        "for more documentation, see https://github.com/keras-team/keras-tuner\n",
        "\n",
        "Alternative APIs to try:\n",
        " - GPFlowOpt https://gpflowopt.readthedocs.io/en/latest/intro.html\n",
        " "
      ]
    }
  ]
}